{
 "cells": [
  {
   "cell_type": "markdown",
   "metadata": {},
   "source": [
    "# 기본 연습 문제"
   ]
  },
  {
   "cell_type": "markdown",
   "metadata": {},
   "source": [
    "* Q) 4400명의 사람이 모였는데, 이들을 대상으로 20명씩 조를 만들려고 한다. 이 때 생성되는 조의 수는 몇 개인가?"
   ]
  },
  {
   "cell_type": "code",
   "execution_count": 2,
   "metadata": {},
   "outputs": [
    {
     "data": {
      "text/plain": [
       "220"
      ]
     },
     "execution_count": 2,
     "metadata": {},
     "output_type": "execute_result"
    }
   ],
   "source": [
    "4400 // 20"
   ]
  },
  {
   "cell_type": "markdown",
   "metadata": {},
   "source": [
    "* Q) 4400명의 사람이 모였는데, 이들을 대상으로 30명씩 조를 만들려고 한다. 이 떄 생성되는 조의 수와 조에 편성이 안 되는 사람의 수는?"
   ]
  },
  {
   "cell_type": "code",
   "execution_count": 11,
   "metadata": {},
   "outputs": [
    {
     "name": "stdout",
     "output_type": "stream",
     "text": [
      "146\n"
     ]
    },
    {
     "data": {
      "text/plain": [
       "20"
      ]
     },
     "execution_count": 11,
     "metadata": {},
     "output_type": "execute_result"
    }
   ],
   "source": [
    "print(4400 // 30)\n",
    "round(((4400 / 30) - (4400 // 30)) * 30)"
   ]
  },
  {
   "cell_type": "markdown",
   "metadata": {},
   "source": [
    "* Q)  국어 80점, 수학 55점, 영어 75점, 사회 80점 --> 이 사람의 평균을 구하는 코드를 작성하시오"
   ]
  },
  {
   "cell_type": "code",
   "execution_count": 14,
   "metadata": {},
   "outputs": [
    {
     "data": {
      "text/plain": [
       "72.5"
      ]
     },
     "execution_count": 14,
     "metadata": {},
     "output_type": "execute_result"
    }
   ],
   "source": [
    "(80+55+75+80) / 4"
   ]
  },
  {
   "cell_type": "markdown",
   "metadata": {},
   "source": [
    "72.5"
   ]
  },
  {
   "cell_type": "markdown",
   "metadata": {},
   "source": [
    "* Q)  국어 80점, 수학 55점, 영어 75점, 사회 80점 --> 이 사람의 평균을 구하는 코드를 작성하시오   \n",
    "(단, 이번에는 input을 활용하여 입력받는 점수를 바탕으로 평균을 구하세요!)"
   ]
  },
  {
   "cell_type": "code",
   "execution_count": 17,
   "metadata": {},
   "outputs": [
    {
     "name": "stdout",
     "output_type": "stream",
     "text": [
      "72.5\n"
     ]
    }
   ],
   "source": [
    "def mean(*reg):\n",
    "    result1 = 0\n",
    "    result2 = 0\n",
    "    for i in reg:\n",
    "        result1 = result1 + i\n",
    "        result2 = len(reg)\n",
    "    return (result1/result2)\n",
    "print(mean(80,55,75,80))"
   ]
  },
  {
   "cell_type": "code",
   "execution_count": 4,
   "metadata": {},
   "outputs": [
    {
     "name": "stdout",
     "output_type": "stream",
     "text": [
      "한국어 점수를 입력해주세요!!!1\n",
      "수학 점수를 입력해주세요!!!!2\n",
      "영어 점수 입력해주세요!!!!3\n",
      "사회 점수 입력해주세요1!!4\n",
      "4과목 평균 점수 : 2.5\n"
     ]
    }
   ],
   "source": [
    "korean = input(\"한국어 점수를 입력해주세요!!!\")\n",
    "~~~"
   ]
  },
  {
   "cell_type": "code",
   "execution_count": 3,
   "metadata": {},
   "outputs": [
    {
     "name": "stdout",
     "output_type": "stream",
     "text": [
      "한국어 점수를 입력해주세요!!!15\n",
      "수학 점수를 입력해주세요!!!12\n",
      "영어 점수를 입력해주세요!!!11\n",
      "사회 점수를 입력해주세요!!!10\n",
      "4과목 평균점수 : 12.0\n"
     ]
    }
   ],
   "source": [
    "def mean(*reg):\n",
    "    result1 = 0\n",
    "    result2 = 0\n",
    "    for i in reg:\n",
    "        result1 = result1 + i\n",
    "        result2 = len(reg)\n",
    "    return (result1/result2)\n",
    "\n",
    "korean = int(input(\"한국어 점수를 입력해주세요!!!\"))\n",
    "math = int(input(\"수학 점수를 입력해주세요!!!\"))\n",
    "english = int(input(\"영어 점수를 입력해주세요!!!\"))\n",
    "society = int(input(\"사회 점수를 입력해주세요!!!\"))\n",
    "a = \"4과목 평균점수 : \"\n",
    "\n",
    "print(a + str(mean(korean,math,english,society)))"
   ]
  },
  {
   "cell_type": "markdown",
   "metadata": {},
   "source": [
    "* Q) 주어진 수가 홀수인지, 아니면 짝수인지 판별할 수 있는 방법을 제시하여라."
   ]
  },
  {
   "cell_type": "code",
   "execution_count": 8,
   "metadata": {},
   "outputs": [
    {
     "name": "stdout",
     "output_type": "stream",
     "text": [
      "홀짝을 판단하고자 하는 수를 입력하세요!!35\n",
      "False\n"
     ]
    }
   ],
   "source": [
    "def isEven(no):\n",
    "    if (no%2) == 0 :\n",
    "        return (\"True\")\n",
    "    else :\n",
    "        return (\"False\")\n",
    "\n",
    "number = int(input(\"홀짝을 판단하고자 하는 수를 입력하세요!!\"))\n",
    "print(isEven(number))"
   ]
  },
  {
   "cell_type": "code",
   "execution_count": 5,
   "metadata": {},
   "outputs": [
    {
     "name": "stdout",
     "output_type": "stream",
     "text": [
      "홀짝을 판단하고자 하는 수를 입력하세요!!!34\n",
      "True\n"
     ]
    }
   ],
   "source": []
  },
  {
   "cell_type": "markdown",
   "metadata": {},
   "source": [
    "* Q) a = [1, 2, 3, 4,5]라는 리스트를 만들고, 여기에다가 append, insert를 활용하여 a= [1,2,\"hello\",4,5,\"Hi\",\"Monday\"]를 만들어라"
   ]
  },
  {
   "cell_type": "code",
   "execution_count": 15,
   "metadata": {},
   "outputs": [
    {
     "name": "stdout",
     "output_type": "stream",
     "text": [
      "[1, 2, 'Hello', 3, 4, 5, 'Hi', 'Monday']\n"
     ]
    }
   ],
   "source": [
    "a = [1,2,3,4,5]\n",
    "a.append(\"Hi\")\n",
    "a.append(\"Monday\")\n",
    "a.insert(2, \"Hello\")\n",
    "print(a)"
   ]
  },
  {
   "cell_type": "code",
   "execution_count": 7,
   "metadata": {},
   "outputs": [
    {
     "name": "stdout",
     "output_type": "stream",
     "text": [
      "[1, 2, 'Hello', 3, 4, 5, 'Hi', 'Monday']\n"
     ]
    }
   ],
   "source": []
  },
  {
   "cell_type": "markdown",
   "metadata": {},
   "source": [
    "* Q) 10을 2로 나눈 몫하고 210을 3으로 나눈 몫하고 같은지 비교하시오!"
   ]
  },
  {
   "cell_type": "code",
   "execution_count": 17,
   "metadata": {},
   "outputs": [
    {
     "data": {
      "text/plain": [
       "False"
      ]
     },
     "execution_count": 17,
     "metadata": {},
     "output_type": "execute_result"
    }
   ],
   "source": [
    "(10 // 2) == (210 // 3)"
   ]
  },
  {
   "cell_type": "code",
   "execution_count": 8,
   "metadata": {},
   "outputs": [
    {
     "data": {
      "text/plain": [
       "False"
      ]
     },
     "execution_count": 8,
     "metadata": {},
     "output_type": "execute_result"
    }
   ],
   "source": []
  },
  {
   "cell_type": "markdown",
   "metadata": {},
   "source": [
    "* Q) 12345를 4로 나눈 나머지하고, 54321을 2로 나눈 나머지하고 비교하시오!!!"
   ]
  },
  {
   "cell_type": "code",
   "execution_count": 18,
   "metadata": {},
   "outputs": [
    {
     "data": {
      "text/plain": [
       "True"
      ]
     },
     "execution_count": 18,
     "metadata": {},
     "output_type": "execute_result"
    }
   ],
   "source": [
    "(12345 % 4) == (54321 % 2)"
   ]
  },
  {
   "cell_type": "code",
   "execution_count": 11,
   "metadata": {},
   "outputs": [
    {
     "data": {
      "text/plain": [
       "True"
      ]
     },
     "execution_count": 11,
     "metadata": {},
     "output_type": "execute_result"
    }
   ],
   "source": []
  },
  {
   "cell_type": "markdown",
   "metadata": {},
   "source": [
    "* a = [1, 2, 3, ['aa', 'bb', 'cc', ['hello', 'hi', 'hahaha']]] 에서 i를 접근해보세요. 정수 인덱스를 활용해서.."
   ]
  },
  {
   "cell_type": "code",
   "execution_count": 23,
   "metadata": {},
   "outputs": [
    {
     "name": "stdout",
     "output_type": "stream",
     "text": [
      "[1, 2, 3, ['aa', 'bb', 'cc', ['hello', 'hi', 'hahaha']]]\n",
      "i\n"
     ]
    }
   ],
   "source": [
    "a = [1, 2, 3, ['aa', 'bb', 'cc', ['hello', 'hi', 'hahaha']]]\n",
    "print(a)\n",
    "print(a[3][3][1][1])"
   ]
  },
  {
   "cell_type": "code",
   "execution_count": 1,
   "metadata": {},
   "outputs": [
    {
     "name": "stdout",
     "output_type": "stream",
     "text": [
      "[1, 2, 3, ['aa', 'bb', 'cc', ['hello', 'hi', 'hahaha']]]\n",
      "i\n"
     ]
    }
   ],
   "source": []
  },
  {
   "cell_type": "markdown",
   "metadata": {},
   "source": [
    "* Q) a = [\"a\",\"b\",\"c\",\"d\",\"e\",\"f\",\"g\",\"h\",\"i\",\"j\",\"k\",1,2,3,4,5]  \n",
    "1) :를 사용하여 a의 모든 값을  출력하세요  \n",
    "2) :를 사용하여 a의 처음부터 5번째 까지 값을 출력하세요.  \n",
    "3) :를 사용하여 a의 4번째부터 끝까지 값을 출력하세요.  \n",
    "4) :를 사용하여 a의 2번째부터 6번째까지 값을 출력하세요.  \n",
    "5) :를 사용하여 a의 홀수번째 위치한 값들을 출력하세요.  \n",
    "6) :를 사용하여 a의 1,4,7,10번째 위치한 값들을 출력하세요!!\n"
   ]
  },
  {
   "cell_type": "code",
   "execution_count": 50,
   "metadata": {},
   "outputs": [
    {
     "name": "stdout",
     "output_type": "stream",
     "text": [
      "['a', 'b', 'c', 'd', 'e', 'f', 'g', 'h', 'i', 'j', 'k', 1, 2, 3, 4, 5]\n",
      "['a', 'b', 'c', 'd', 'e']\n",
      "['d', 'e', 'f', 'g', 'h', 'i', 'j', 'k', 1, 2, 3, 4, 5]\n",
      "['b', 'c', 'd', 'e', 'f']\n",
      "['a', 'c', 'e', 'g', 'i', 'k', 2, 4]\n",
      "['a', 'd', 'g', 'j']\n"
     ]
    }
   ],
   "source": [
    "a = [\"a\",\"b\",\"c\",\"d\",\"e\",\"f\",\"g\",\"h\",\"i\",\"j\",\"k\",1,2,3,4,5]\n",
    "print(a[0:len(a)]) #1\n",
    "print(a[0:5]) #2\n",
    "print(a[3:len(a)]) #3\n",
    "print(a[1:6]) #4\n",
    "print(a[0:(len(a)-1):2]) #5\n",
    "print(a[0:10:3])\n"
   ]
  },
  {
   "cell_type": "markdown",
   "metadata": {},
   "source": [
    "* Q) a = {\"A\":90, \"B\":80,\"C\":70 } 이 중에서 \"B\"의 점수를 출력해보세요!"
   ]
  },
  {
   "cell_type": "code",
   "execution_count": 58,
   "metadata": {},
   "outputs": [
    {
     "data": {
      "text/plain": [
       "80"
      ]
     },
     "execution_count": 58,
     "metadata": {},
     "output_type": "execute_result"
    }
   ],
   "source": [
    "a = {\"A\":90, \"B\":80,\"C\":70 }\n",
    "a[\"B\"]"
   ]
  },
  {
   "cell_type": "code",
   "execution_count": 2,
   "metadata": {},
   "outputs": [
    {
     "data": {
      "text/plain": [
       "80"
      ]
     },
     "execution_count": 2,
     "metadata": {},
     "output_type": "execute_result"
    }
   ],
   "source": []
  },
  {
   "cell_type": "markdown",
   "metadata": {},
   "source": [
    "Q) a = {\"A\":30, \"B\":50, \"C\":10,\"D\":43, \"E\":85, \"F\":76,\"G\":32} 이 중에서 최고점과 최저점을 찾으세요!!!"
   ]
  },
  {
   "cell_type": "code",
   "execution_count": 97,
   "metadata": {},
   "outputs": [
    {
     "name": "stdout",
     "output_type": "stream",
     "text": [
      "10\n",
      "85\n"
     ]
    }
   ],
   "source": [
    " a = {\"A\":30, \"B\":50, \"C\":10,\"D\":43, \"E\":85, \"F\":76,\"G\":32}\n",
    "print(min(a.values()))\n",
    "print(max(a.values()))"
   ]
  },
  {
   "cell_type": "code",
   "execution_count": 3,
   "metadata": {},
   "outputs": [
    {
     "name": "stdout",
     "output_type": "stream",
     "text": [
      "10\n",
      "85\n"
     ]
    }
   ],
   "source": []
  },
  {
   "cell_type": "markdown",
   "metadata": {},
   "source": [
    "Q) a = {\"A\":30, \"B\":50, \"C\":10,\"D\":43, \"E\":85, \"F\":76,\"G\":32} 이 중에서 최고점과 최저점이 누구인지 찾으세요!!!"
   ]
  },
  {
   "cell_type": "code",
   "execution_count": 110,
   "metadata": {},
   "outputs": [
    {
     "name": "stdout",
     "output_type": "stream",
     "text": [
      "최저점 : C\n",
      "최고점 : E\n"
     ]
    }
   ],
   "source": [
    "for name, score in a.items():\n",
    "    if score == max(a.values()):\n",
    "        print (\"최고점 : \" + name)\n",
    "    elif score == min(a.values()):\n",
    "        print (\"최저점 : \" + name)\n",
    "    else:\n",
    "        pass\n"
   ]
  },
  {
   "cell_type": "markdown",
   "metadata": {},
   "source": [
    "*Q) 1부터 20까지 모든 수를 출력하는 프로그램을 만드세요(for/range)"
   ]
  },
  {
   "cell_type": "code",
   "execution_count": 127,
   "metadata": {},
   "outputs": [
    {
     "name": "stdout",
     "output_type": "stream",
     "text": [
      "1\n",
      "2\n",
      "3\n",
      "4\n",
      "5\n",
      "6\n",
      "7\n",
      "8\n",
      "9\n",
      "10\n",
      "11\n",
      "12\n",
      "13\n",
      "14\n",
      "15\n",
      "16\n",
      "17\n",
      "18\n",
      "19\n",
      "20\n"
     ]
    }
   ],
   "source": [
    "list1 = list(range(1,21))\n",
    "for i in list1:\n",
    "    print(i)\n"
   ]
  },
  {
   "cell_type": "code",
   "execution_count": 1,
   "metadata": {},
   "outputs": [
    {
     "name": "stdout",
     "output_type": "stream",
     "text": [
      "1\n",
      "2\n",
      "3\n",
      "4\n",
      "5\n",
      "6\n",
      "7\n",
      "8\n",
      "9\n",
      "10\n",
      "11\n",
      "12\n",
      "13\n",
      "14\n",
      "15\n",
      "16\n",
      "17\n",
      "18\n",
      "19\n",
      "20\n"
     ]
    }
   ],
   "source": []
  },
  {
   "cell_type": "markdown",
   "metadata": {},
   "source": [
    "* Q) \"hello_1\", \"hello_2\", ..., \"hello_20\"까지 출력하는 프로그램을 만드세요(for 사용)"
   ]
  },
  {
   "cell_type": "code",
   "execution_count": 135,
   "metadata": {},
   "outputs": [
    {
     "name": "stdout",
     "output_type": "stream",
     "text": [
      "hello_1\n",
      "hello_2\n",
      "hello_3\n",
      "hello_4\n",
      "hello_5\n",
      "hello_6\n",
      "hello_7\n",
      "hello_8\n",
      "hello_9\n",
      "hello_10\n",
      "hello_11\n",
      "hello_12\n",
      "hello_13\n",
      "hello_14\n",
      "hello_15\n",
      "hello_16\n",
      "hello_17\n",
      "hello_18\n",
      "hello_19\n",
      "hello_20\n"
     ]
    }
   ],
   "source": [
    "for i in list1:\n",
    "    print(\"hello_\" + str(i))"
   ]
  },
  {
   "cell_type": "code",
   "execution_count": 12,
   "metadata": {},
   "outputs": [
    {
     "name": "stdout",
     "output_type": "stream",
     "text": [
      "hello_1\n",
      "hello_2\n",
      "hello_3\n",
      "hello_4\n",
      "hello_5\n",
      "hello_6\n",
      "hello_7\n",
      "hello_8\n",
      "hello_9\n",
      "hello_10\n",
      "hello_11\n",
      "hello_12\n",
      "hello_13\n",
      "hello_14\n",
      "hello_15\n",
      "hello_16\n",
      "hello_17\n",
      "hello_18\n",
      "hello_19\n",
      "hello_20\n"
     ]
    }
   ],
   "source": []
  },
  {
   "cell_type": "markdown",
   "metadata": {},
   "source": [
    "* Q) a = [\"one\",\"two\",\"three\",\"four\"] 과 for문을 이용하여\n",
    "b = ['one1', 'two2', 'three3', 'four4']을 만드세요.  \n",
    "1) for& range 방법   \n",
    "2) for & a 바로 방법   \n",
    "2가지 방식으로 하세요!!!\n"
   ]
  },
  {
   "cell_type": "code",
   "execution_count": 3,
   "metadata": {},
   "outputs": [
    {
     "name": "stdout",
     "output_type": "stream",
     "text": [
      "['one1', 'two2', 'three3', 'four4']\n"
     ]
    }
   ],
   "source": [
    "# 1)\n",
    "a = [\"one\",\"two\",\"three\",\"four\"]\n",
    "b = []\n",
    "num = list(range(1,5))\n",
    "for i in num:\n",
    "     b.append(a[i-1] + str(i))\n",
    "    \n",
    "print(b)"
   ]
  },
  {
   "cell_type": "code",
   "execution_count": 18,
   "metadata": {},
   "outputs": [
    {
     "name": "stdout",
     "output_type": "stream",
     "text": [
      "['one1', 'two2', 'three3', 'four4']\n"
     ]
    },
    {
     "data": {
      "text/plain": [
       "0"
      ]
     },
     "execution_count": 18,
     "metadata": {},
     "output_type": "execute_result"
    }
   ],
   "source": [
    "# 2)\n",
    "a = [\"one\",\"two\",\"three\",\"four\"]\n",
    "b = []\n",
    "for i in a:\n",
    "    b.append(i + str(a.index(i)+1))\n",
    "print(b)"
   ]
  },
  {
   "cell_type": "markdown",
   "metadata": {},
   "source": [
    "* Q) 1번/2번 학생의 시험 점수를 리스트로 만들고, 이에 대한 평균을 구하시오.  \n",
    "예: a = [10,20,30,40], b=[50,20,10,13]에 대해서, 각기 평균을 구하시오!   \n",
    "단, 시험 점수가 변동이 생길 수 있고, 시험 과목도 변동이 생길 수 있으니 a/b 중심으로 코드를 구현하세요!"
   ]
  },
  {
   "cell_type": "code",
   "execution_count": 164,
   "metadata": {},
   "outputs": [
    {
     "name": "stdout",
     "output_type": "stream",
     "text": [
      "a 평균 : 25.0\n",
      "b 평균 : 23.25\n"
     ]
    }
   ],
   "source": [
    "a = [10,20,30,40]\n",
    "b = [50,20,10,13]\n",
    "def mean2(li):\n",
    "    result1 = 0\n",
    "    result2 = 0\n",
    "    for i in li:\n",
    "        result1 = sum(li)\n",
    "        result2 = len(a)\n",
    "        return(result1/result2)\n",
    "print(\"a 평균 : \" + str(mean2(a)))\n",
    "print(\"b 평균 : \" + str(mean2(b)))"
   ]
  },
  {
   "cell_type": "markdown",
   "metadata": {},
   "source": [
    "* Q)  a = [\"Life\", \"is\",\"too\", \"short\", \"you\",\"need\",\"python\"] a 리스트를 화룡해서 yoo too 출력해보기!!!"
   ]
  },
  {
   "cell_type": "code",
   "execution_count": 168,
   "metadata": {},
   "outputs": [
    {
     "name": "stdout",
     "output_type": "stream",
     "text": [
      "you too\n"
     ]
    }
   ],
   "source": [
    "a = [\"Life\", \"is\",\"too\", \"short\", \"you\",\"need\",\"python\"]\n",
    "print(a[4] +\" \"+ a[2])"
   ]
  },
  {
   "cell_type": "code",
   "execution_count": 15,
   "metadata": {},
   "outputs": [
    {
     "name": "stdout",
     "output_type": "stream",
     "text": [
      "you too\n"
     ]
    }
   ],
   "source": []
  },
  {
   "cell_type": "markdown",
   "metadata": {},
   "source": [
    "* Q) [\"Life\", \"is\", \"too\",\"short\"]라는 리스트를 활용해서 Life is too short 이라는 문장 만들기!!!"
   ]
  },
  {
   "cell_type": "code",
   "execution_count": 184,
   "metadata": {},
   "outputs": [
    {
     "name": "stdout",
     "output_type": "stream",
     "text": [
      " Life is too short\n",
      "Life is too short\n"
     ]
    }
   ],
   "source": [
    "# a = [\"Life\", \"is\",\"too\", \"short\", \"you\",\"need\",\"python\"]\n",
    "# result1 = str(\"\")\n",
    "# for i in a[0:4]:\n",
    "#     result1 = result1 + \" \"+ i\n",
    "# print(result1)\n",
    "\n",
    "a = [\"Life\", \"is\",\"too\", \"short\", \"you\",\"need\",\"python\"]\n",
    "result = \" \".join(a[0:4])\n",
    "print(result)"
   ]
  },
  {
   "cell_type": "code",
   "execution_count": 21,
   "metadata": {},
   "outputs": [
    {
     "name": "stdout",
     "output_type": "stream",
     "text": [
      "Life is too short 1 2 3 4 5\n"
     ]
    }
   ],
   "source": [
    "# 참고) join은 전체에 대한 것!\n",
    "a = [\"Life\", \"is\", \"too\",\"short\",\"1\",\"2\",\"3\",\"4\",\"5\"]\n",
    "result = \" \".join(a)\n",
    "print(result)"
   ]
  },
  {
   "cell_type": "markdown",
   "metadata": {},
   "source": [
    "* Q)  a = [1,2,3,4,5,6] 이 리스트의 원소의 갯수는?"
   ]
  },
  {
   "cell_type": "code",
   "execution_count": 187,
   "metadata": {},
   "outputs": [
    {
     "data": {
      "text/plain": [
       "6"
      ]
     },
     "execution_count": 187,
     "metadata": {},
     "output_type": "execute_result"
    }
   ],
   "source": [
    "a = [1,2,3,4,5,6]\n",
    "len(a)"
   ]
  },
  {
   "cell_type": "code",
   "execution_count": 22,
   "metadata": {},
   "outputs": [
    {
     "name": "stdout",
     "output_type": "stream",
     "text": [
      "6\n"
     ]
    }
   ],
   "source": []
  },
  {
   "cell_type": "markdown",
   "metadata": {},
   "source": [
    "* Q) a [ 1,2,3,4,5]라는 리스트를 [1,3,5]로 만들기!!!(remove사용)"
   ]
  },
  {
   "cell_type": "code",
   "execution_count": 193,
   "metadata": {},
   "outputs": [
    {
     "name": "stdout",
     "output_type": "stream",
     "text": [
      "[1, 3, 4, 5]\n"
     ]
    }
   ],
   "source": [
    "a = [1,2,3,4,5]\n",
    "a.remove(2) and a.remove(4)\n",
    "print(a)"
   ]
  },
  {
   "cell_type": "markdown",
   "metadata": {},
   "source": [
    "* Q) a = 10 양수, 음수, 0인지 판단을 하고 싶다!! --> 완성 후에는 input을 활용하여 하는 것으로 추가 구현"
   ]
  },
  {
   "cell_type": "code",
   "execution_count": 201,
   "metadata": {},
   "outputs": [
    {
     "name": "stdout",
     "output_type": "stream",
     "text": [
      "0,양수,음수 판단할 수를 입력해 주세요!!!!!0\n",
      "a는 0이다!!!\n"
     ]
    }
   ],
   "source": [
    "a = int(input(\"0,양수,음수 판단할 수를 입력해 주세요!!!!!\"))\n",
    "def isPositive(no):\n",
    "    if no > 0 :\n",
    "        print (\"a는 양수다!!\")\n",
    "    elif no == 0 :\n",
    "        print (\"a는 0이다!!!\")\n",
    "    else :\n",
    "        print (\"a는 음수다!!\")\n",
    "\n",
    "isPositive(a)\n"
   ]
  },
  {
   "cell_type": "code",
   "execution_count": 24,
   "metadata": {},
   "outputs": [
    {
     "name": "stdout",
     "output_type": "stream",
     "text": [
      "0,양수,음수 판단할 수를 입력해 주세요!!!!!-2\n",
      "a는 음수다!!!!\n"
     ]
    }
   ],
   "source": [
    "a = int(input(\"0,양수,음수 판단할 수를 입력해 주세요!!!!!\"))\n",
    "~~~\n"
   ]
  },
  {
   "cell_type": "markdown",
   "metadata": {},
   "source": [
    "* Q1) 입력받은 양의 정수(자연수) 홀수/짝수인지 판단을 하고, 그 결과를 출력해주세요!!"
   ]
  },
  {
   "cell_type": "code",
   "execution_count": 2,
   "metadata": {},
   "outputs": [
    {
     "name": "stdout",
     "output_type": "stream",
     "text": [
      "홀짝을 판단하고자 하는 수를 입력하세요!!-5\n",
      "이상해요!!!!\n"
     ]
    }
   ],
   "source": [
    "number = int(input(\"홀짝을 판단하고자 하는 수를 입력하세요!!\"))\n",
    "\n",
    "def isEven(no):\n",
    "    if (no>=0 and no%2 == 0) :\n",
    "        print (\"입력하신 수는 짝수 입니다!!!!\")\n",
    "    elif (no>=0 and no%2 == 1) :\n",
    "        print (\"입력하신 수는 홀수 입니다!!!!\")\n",
    "    else :\n",
    "        print (\"이상해요!!!!\")\n",
    "\n",
    "isEven(number)"
   ]
  },
  {
   "cell_type": "code",
   "execution_count": 26,
   "metadata": {},
   "outputs": [
    {
     "name": "stdout",
     "output_type": "stream",
     "text": [
      "홀짝을 판단하고자 하는 수를 입력하세요!!!-3\n",
      "입력하신 수는 홀수입니다!!!!\n"
     ]
    }
   ],
   "source": []
  },
  {
   "cell_type": "code",
   "execution_count": 27,
   "metadata": {},
   "outputs": [
    {
     "name": "stdout",
     "output_type": "stream",
     "text": [
      "홀짝을 판단하고자 하는 수를 입력하세요!!!-3\n",
      "이상해요1!!!!\n"
     ]
    }
   ],
   "source": []
  },
  {
   "cell_type": "markdown",
   "metadata": {},
   "source": [
    "* Q) * Q2) A라는 사람이 5000원의 돈을 가지고 있고, 카드는 없다.  \n",
    "A의 상태는   \n",
    "money = 5000  \n",
    "card = False  \n",
    "이 사람이 목적지까지 택시를 타고 가려고 한다.\n",
    "목적지까지 가기 위해서는 카드를 소유하고 있거나, 4000원 이상의 현금을 가지고 있어야 한다.\n",
    "A 는 이 목적지까지 갈 수 있는지 판단해보세요!!!"
   ]
  },
  {
   "cell_type": "code",
   "execution_count": 1,
   "metadata": {},
   "outputs": [
    {
     "name": "stdout",
     "output_type": "stream",
     "text": [
      "갈 수 있다!!!\n"
     ]
    }
   ],
   "source": [
    "def taxi(mon, car):\n",
    "    if mon >= 4000 or car == True:\n",
    "        print(\"갈 수 있다!!!\")\n",
    "    else :\n",
    "        print(\"갈 수 없다...\")\n",
    "money = 5000\n",
    "card = False\n",
    "taxi(money,card)"
   ]
  },
  {
   "cell_type": "code",
   "execution_count": 29,
   "metadata": {},
   "outputs": [
    {
     "name": "stdout",
     "output_type": "stream",
     "text": [
      "갈 수 있다!!!!\n"
     ]
    }
   ],
   "source": [
    "        "
   ]
  },
  {
   "cell_type": "code",
   "execution_count": null,
   "metadata": {},
   "outputs": [],
   "source": []
  },
  {
   "cell_type": "markdown",
   "metadata": {},
   "source": [
    "* Q) 입력을 받은 자연수에 대해서 몇 자리 수인지 판단하세요!!!(최대 9999까지)"
   ]
  },
  {
   "cell_type": "code",
   "execution_count": 2,
   "metadata": {},
   "outputs": [
    {
     "name": "stdout",
     "output_type": "stream",
     "text": [
      "세자리\n"
     ]
    }
   ],
   "source": [
    "a = 356\n",
    "if a <= 10 :\n",
    "    print(\"한자리\")\n",
    "elif a <= 100 :\n",
    "    print(\"두자리\")\n",
    "elif a <= 1000 :\n",
    "    print(\"세자리\")\n",
    "elif a <= 10000 :\n",
    "    print(\"네자리\")\n",
    "else :\n",
    "    print(\"...\")"
   ]
  },
  {
   "cell_type": "code",
   "execution_count": 34,
   "metadata": {},
   "outputs": [
    {
     "name": "stdout",
     "output_type": "stream",
     "text": [
      "세자리 修\n"
     ]
    }
   ],
   "source": []
  },
  {
   "cell_type": "markdown",
   "metadata": {},
   "source": [
    "* Q) a = 10, b = 20을 가지고, a=20, b=10이라고 서로 수를 바꾸는 프로그램을 작성하시오!!!"
   ]
  },
  {
   "cell_type": "code",
   "execution_count": 10,
   "metadata": {},
   "outputs": [
    {
     "name": "stdout",
     "output_type": "stream",
     "text": [
      "처음 입력 : 10\n",
      "두번째 입력 : 20\n",
      "변화된 a값 : 20\n",
      "변화된 b값 : 10\n"
     ]
    }
   ],
   "source": [
    "a = 10\n",
    "b = 20\n",
    "c = 0\n",
    "def switch(a, b) :\n",
    "    print(\"처음 입력 : \" + str(a), \n",
    "         \"두번째 입력 : \" + str(b), sep='\\n')\n",
    "    c = a\n",
    "    a = b\n",
    "    b = c\n",
    "    print(\"변화된 a값 : \" + str(a), \"변화된 b값 : \" + str(b), sep = '\\n')\n",
    "\n",
    "switch(10, 20)"
   ]
  },
  {
   "cell_type": "code",
   "execution_count": 35,
   "metadata": {},
   "outputs": [
    {
     "name": "stdout",
     "output_type": "stream",
     "text": [
      "처음 입력20\n",
      "두번째 입력30\n",
      "변화된 a값: 30\n",
      "변화된 b값: 20\n"
     ]
    }
   ],
   "source": []
  },
  {
   "cell_type": "markdown",
   "metadata": {},
   "source": [
    "* Q) kg에 대한 값을 g으로 변환하는 프로그램을 작성하시오(예:1.2kg => 1200g)"
   ]
  },
  {
   "cell_type": "code",
   "execution_count": 21,
   "metadata": {},
   "outputs": [
    {
     "name": "stdout",
     "output_type": "stream",
     "text": [
      "입력하세요[kg]!!!1.2\n",
      "1200.0\n"
     ]
    }
   ],
   "source": [
    "kg = input(\"입력하세요[kg]!!!\")\n",
    "def kgtog (a) :\n",
    "    b = float(a) * 1000\n",
    "    print(b)\n",
    "\n",
    "kgtog(kg)"
   ]
  },
  {
   "cell_type": "code",
   "execution_count": 38,
   "metadata": {},
   "outputs": [
    {
     "name": "stdout",
     "output_type": "stream",
     "text": [
      "입력하세요[kg]!!!1.2\n",
      "1200.0\n"
     ]
    }
   ],
   "source": []
  },
  {
   "cell_type": "markdown",
   "metadata": {},
   "source": [
    "* Q) g에 대한 값을 kg으로 변환하는 프로그램을 작성하시오!(예:1200g ==> 1.2kg)"
   ]
  },
  {
   "cell_type": "code",
   "execution_count": 22,
   "metadata": {},
   "outputs": [
    {
     "name": "stdout",
     "output_type": "stream",
     "text": [
      "입력하세요[g]!!!1234\n",
      "1.234\n"
     ]
    }
   ],
   "source": [
    "g = input(\"입력하세요[g]!!!\")\n",
    "def gtokg (a) :\n",
    "    b = float(a) / 1000\n",
    "    print(b)\n",
    "    \n",
    "gtokg(g)"
   ]
  },
  {
   "cell_type": "code",
   "execution_count": 39,
   "metadata": {},
   "outputs": [
    {
     "name": "stdout",
     "output_type": "stream",
     "text": [
      "입력하세요[g]!!!1234\n",
      "1.234\n"
     ]
    }
   ],
   "source": []
  },
  {
   "cell_type": "markdown",
   "metadata": {},
   "source": [
    "* Q)  3개의 수에 대해서, 가장 큰 수를 찾는 프로그램을 작성하시오!!!\n",
    "(예를 들면, 10, 20, 17이라는 3개의 수가 있다고 하면, 이 중에서 제일 큰 수 20을 찾는 프로그램)"
   ]
  },
  {
   "cell_type": "code",
   "execution_count": 8,
   "metadata": {},
   "outputs": [
    {
     "name": "stdout",
     "output_type": "stream",
     "text": [
      "20\n"
     ]
    }
   ],
   "source": [
    "a = [10, 20, 17]\n",
    "\n",
    "def maximum(a):\n",
    "    maxi = a[0]\n",
    "    for i in range(1,len(a)) :\n",
    "        if maxi < a[i] :\n",
    "            maxi = a[i]\n",
    "    print(maxi) \n",
    "\n",
    "maximum(a)"
   ]
  },
  {
   "cell_type": "code",
   "execution_count": 1,
   "metadata": {},
   "outputs": [
    {
     "name": "stdout",
     "output_type": "stream",
     "text": [
      "20\n"
     ]
    }
   ],
   "source": []
  },
  {
   "cell_type": "markdown",
   "metadata": {},
   "source": [
    "* Q) 1부터 100까지 합!!!!"
   ]
  },
  {
   "cell_type": "code",
   "execution_count": 15,
   "metadata": {},
   "outputs": [
    {
     "name": "stdout",
     "output_type": "stream",
     "text": [
      "5050\n"
     ]
    }
   ],
   "source": [
    "result = 0\n",
    "for i in range(1,101) :\n",
    "    result += i\n",
    "print(result)"
   ]
  },
  {
   "cell_type": "code",
   "execution_count": 42,
   "metadata": {},
   "outputs": [
    {
     "name": "stdout",
     "output_type": "stream",
     "text": [
      "5050\n"
     ]
    }
   ],
   "source": []
  },
  {
   "cell_type": "markdown",
   "metadata": {},
   "source": [
    "* Q) 1부터 100까지 곱!!"
   ]
  },
  {
   "cell_type": "code",
   "execution_count": 16,
   "metadata": {},
   "outputs": [
    {
     "name": "stdout",
     "output_type": "stream",
     "text": [
      "93326215443944152681699238856266700490715968264381621468592963895217599993229915608941463976156518286253697920827223758251185210916864000000000000000000000000\n"
     ]
    }
   ],
   "source": [
    "result = 1\n",
    "for i in range(1,101) :\n",
    "    result *= i\n",
    "print(result)"
   ]
  },
  {
   "cell_type": "code",
   "execution_count": 43,
   "metadata": {},
   "outputs": [
    {
     "name": "stdout",
     "output_type": "stream",
     "text": [
      "93326215443944152681699238856266700490715968264381621468592963895217599993229915608941463976156518286253697920827223758251185210916864000000000000000000000000\n"
     ]
    }
   ],
   "source": []
  },
  {
   "cell_type": "markdown",
   "metadata": {},
   "source": [
    "* Q) 시험 성적 점수 [90, 80,35,24,65,74,93]  \n",
    "시험 통과가 60점 이상이라고 할 때,\n",
    "몇 번째 학생이 통과했는지 알려주세요!!!!!"
   ]
  },
  {
   "cell_type": "code",
   "execution_count": 17,
   "metadata": {},
   "outputs": [
    {
     "name": "stdout",
     "output_type": "stream",
     "text": [
      "1\n",
      "2\n",
      "5\n",
      "6\n",
      "7\n"
     ]
    }
   ],
   "source": [
    "a = [90,80,35,24,65,74,93]\n",
    "def test(a) :\n",
    "    for i in range(0,len(a)) :\n",
    "        if a[i] > 60 :\n",
    "            print (i+1)\n",
    "\n",
    "test(a)"
   ]
  },
  {
   "cell_type": "code",
   "execution_count": 44,
   "metadata": {},
   "outputs": [
    {
     "name": "stdout",
     "output_type": "stream",
     "text": [
      "1\n",
      "2\n",
      "5\n",
      "6\n",
      "7\n"
     ]
    }
   ],
   "source": []
  },
  {
   "cell_type": "markdown",
   "metadata": {},
   "source": [
    "* Q) [\"A\",\"B\",\"A\",\"O\",\"AB\",\"AB\",\"O\",\"A\",\"B\",\"AB\"] 이러한 혈핵형을 가지고 있을 때, for문을 이용해서 각 혈핵형별로 몇 명인지 총 인원을 구하세요!!!!"
   ]
  },
  {
   "cell_type": "code",
   "execution_count": 20,
   "metadata": {},
   "outputs": [
    {
     "name": "stdout",
     "output_type": "stream",
     "text": [
      "A 형 : 3\n",
      "B 형 : 2\n",
      "O 형 : 2\n",
      "AB 형 : 3\n"
     ]
    }
   ],
   "source": [
    "a = [\"A\",\"B\",\"A\",\"O\",\"AB\",\"AB\",\"O\",\"A\",\"B\",\"AB\"]\n",
    "A = []\n",
    "B = []\n",
    "O = []\n",
    "AB = []\n",
    "for i in range(0,len(a)):\n",
    "    if a[i] == \"A\":\n",
    "       A.append(a[i]) \n",
    "    elif a[i] == \"B\":\n",
    "        B.append(a[i])\n",
    "    elif a[i] == \"O\":\n",
    "        O.append(a[i])\n",
    "    else :\n",
    "        AB.append(a[i])\n",
    "\n",
    "print(\"A 형 : \" + str(len(A)))\n",
    "print(\"B 형 : \" + str(len(B)))\n",
    "print(\"O 형 : \" + str(len(O)))\n",
    "print(\"AB 형 : \" + str(len(AB)))\n"
   ]
  },
  {
   "cell_type": "markdown",
   "metadata": {},
   "source": [
    "* Q) [1,2,3,4,5,6,7,8,9,10,11,12] 중에서 홀수만 골라서  \n",
    "3을 곱하는 결과를 나타내시오!!!!"
   ]
  },
  {
   "cell_type": "code",
   "execution_count": 22,
   "metadata": {},
   "outputs": [
    {
     "name": "stdout",
     "output_type": "stream",
     "text": [
      "3\n",
      "9\n",
      "15\n",
      "21\n",
      "27\n",
      "33\n"
     ]
    }
   ],
   "source": [
    "a = [1,2,3,4,5,6,7,8,9,10,11,12]\n",
    "for i in range(0,len(a)):\n",
    "    if a[i] % 2 == 1 :\n",
    "        print(a[i]*3)\n"
   ]
  },
  {
   "cell_type": "code",
   "execution_count": 45,
   "metadata": {},
   "outputs": [
    {
     "name": "stdout",
     "output_type": "stream",
     "text": [
      "3\n",
      "9\n",
      "15\n",
      "21\n",
      "27\n",
      "33\n"
     ]
    }
   ],
   "source": []
  },
  {
   "cell_type": "markdown",
   "metadata": {},
   "source": [
    "* Q) 구구단 2단, 3단, ..., 19단까지 결과를 출력하세요!!!"
   ]
  },
  {
   "cell_type": "code",
   "execution_count": 27,
   "metadata": {},
   "outputs": [
    {
     "name": "stdout",
     "output_type": "stream",
     "text": [
      "2 X 1 = 2\n",
      "2 X 2 = 4\n",
      "2 X 3 = 6\n",
      "2 X 4 = 8\n",
      "2 X 5 = 10\n",
      "2 X 6 = 12\n",
      "2 X 7 = 14\n",
      "2 X 8 = 16\n",
      "2 X 9 = 18\n",
      "3 X 1 = 3\n",
      "3 X 2 = 6\n",
      "3 X 3 = 9\n",
      "3 X 4 = 12\n",
      "3 X 5 = 15\n",
      "3 X 6 = 18\n",
      "3 X 7 = 21\n",
      "3 X 8 = 24\n",
      "3 X 9 = 27\n",
      "4 X 1 = 4\n",
      "4 X 2 = 8\n",
      "4 X 3 = 12\n",
      "4 X 4 = 16\n",
      "4 X 5 = 20\n",
      "4 X 6 = 24\n",
      "4 X 7 = 28\n",
      "4 X 8 = 32\n",
      "4 X 9 = 36\n",
      "5 X 1 = 5\n",
      "5 X 2 = 10\n",
      "5 X 3 = 15\n",
      "5 X 4 = 20\n",
      "5 X 5 = 25\n",
      "5 X 6 = 30\n",
      "5 X 7 = 35\n",
      "5 X 8 = 40\n",
      "5 X 9 = 45\n",
      "6 X 1 = 6\n",
      "6 X 2 = 12\n",
      "6 X 3 = 18\n",
      "6 X 4 = 24\n",
      "6 X 5 = 30\n",
      "6 X 6 = 36\n",
      "6 X 7 = 42\n",
      "6 X 8 = 48\n",
      "6 X 9 = 54\n",
      "7 X 1 = 7\n",
      "7 X 2 = 14\n",
      "7 X 3 = 21\n",
      "7 X 4 = 28\n",
      "7 X 5 = 35\n",
      "7 X 6 = 42\n",
      "7 X 7 = 49\n",
      "7 X 8 = 56\n",
      "7 X 9 = 63\n",
      "8 X 1 = 8\n",
      "8 X 2 = 16\n",
      "8 X 3 = 24\n",
      "8 X 4 = 32\n",
      "8 X 5 = 40\n",
      "8 X 6 = 48\n",
      "8 X 7 = 56\n",
      "8 X 8 = 64\n",
      "8 X 9 = 72\n",
      "9 X 1 = 9\n",
      "9 X 2 = 18\n",
      "9 X 3 = 27\n",
      "9 X 4 = 36\n",
      "9 X 5 = 45\n",
      "9 X 6 = 54\n",
      "9 X 7 = 63\n",
      "9 X 8 = 72\n",
      "9 X 9 = 81\n"
     ]
    }
   ],
   "source": [
    "a = range(2,10)\n",
    "b = range(1,10)\n",
    "for i in a :\n",
    "    for j in b :\n",
    "        print(str(i) + \" X \" + str(j) + \" = \" + str(i*j))"
   ]
  },
  {
   "cell_type": "code",
   "execution_count": 47,
   "metadata": {},
   "outputs": [
    {
     "name": "stdout",
     "output_type": "stream",
     "text": [
      "2 X 1 = 2\n",
      "2 X 2 = 4\n",
      "2 X 3 = 6\n",
      "2 X 4 = 8\n",
      "2 X 5 = 10\n",
      "2 X 6 = 12\n",
      "2 X 7 = 14\n",
      "2 X 8 = 16\n",
      "2 X 9 = 18\n",
      "3 X 1 = 3\n",
      "3 X 2 = 6\n",
      "3 X 3 = 9\n",
      "3 X 4 = 12\n",
      "3 X 5 = 15\n",
      "3 X 6 = 18\n",
      "3 X 7 = 21\n",
      "3 X 8 = 24\n",
      "3 X 9 = 27\n",
      "4 X 1 = 4\n",
      "4 X 2 = 8\n",
      "4 X 3 = 12\n",
      "4 X 4 = 16\n",
      "4 X 5 = 20\n",
      "4 X 6 = 24\n",
      "4 X 7 = 28\n",
      "4 X 8 = 32\n",
      "4 X 9 = 36\n",
      "5 X 1 = 5\n",
      "5 X 2 = 10\n",
      "5 X 3 = 15\n",
      "5 X 4 = 20\n",
      "5 X 5 = 25\n",
      "5 X 6 = 30\n",
      "5 X 7 = 35\n",
      "5 X 8 = 40\n",
      "5 X 9 = 45\n",
      "6 X 1 = 6\n",
      "6 X 2 = 12\n",
      "6 X 3 = 18\n",
      "6 X 4 = 24\n",
      "6 X 5 = 30\n",
      "6 X 6 = 36\n",
      "6 X 7 = 42\n",
      "6 X 8 = 48\n",
      "6 X 9 = 54\n",
      "7 X 1 = 7\n",
      "7 X 2 = 14\n",
      "7 X 3 = 21\n",
      "7 X 4 = 28\n",
      "7 X 5 = 35\n",
      "7 X 6 = 42\n",
      "7 X 7 = 49\n",
      "7 X 8 = 56\n",
      "7 X 9 = 63\n",
      "8 X 1 = 8\n",
      "8 X 2 = 16\n",
      "8 X 3 = 24\n",
      "8 X 4 = 32\n",
      "8 X 5 = 40\n",
      "8 X 6 = 48\n",
      "8 X 7 = 56\n",
      "8 X 8 = 64\n",
      "8 X 9 = 72\n",
      "9 X 1 = 9\n",
      "9 X 2 = 18\n",
      "9 X 3 = 27\n",
      "9 X 4 = 36\n",
      "9 X 5 = 45\n",
      "9 X 6 = 54\n",
      "9 X 7 = 63\n",
      "9 X 8 = 72\n",
      "9 X 9 = 81\n",
      "10 X 1 = 10\n",
      "10 X 2 = 20\n",
      "10 X 3 = 30\n",
      "10 X 4 = 40\n",
      "10 X 5 = 50\n",
      "10 X 6 = 60\n",
      "10 X 7 = 70\n",
      "10 X 8 = 80\n",
      "10 X 9 = 90\n",
      "11 X 1 = 11\n",
      "11 X 2 = 22\n",
      "11 X 3 = 33\n",
      "11 X 4 = 44\n",
      "11 X 5 = 55\n",
      "11 X 6 = 66\n",
      "11 X 7 = 77\n",
      "11 X 8 = 88\n",
      "11 X 9 = 99\n",
      "12 X 1 = 12\n",
      "12 X 2 = 24\n",
      "12 X 3 = 36\n",
      "12 X 4 = 48\n",
      "12 X 5 = 60\n",
      "12 X 6 = 72\n",
      "12 X 7 = 84\n",
      "12 X 8 = 96\n",
      "12 X 9 = 108\n",
      "13 X 1 = 13\n",
      "13 X 2 = 26\n",
      "13 X 3 = 39\n",
      "13 X 4 = 52\n",
      "13 X 5 = 65\n",
      "13 X 6 = 78\n",
      "13 X 7 = 91\n",
      "13 X 8 = 104\n",
      "13 X 9 = 117\n",
      "14 X 1 = 14\n",
      "14 X 2 = 28\n",
      "14 X 3 = 42\n",
      "14 X 4 = 56\n",
      "14 X 5 = 70\n",
      "14 X 6 = 84\n",
      "14 X 7 = 98\n",
      "14 X 8 = 112\n",
      "14 X 9 = 126\n",
      "15 X 1 = 15\n",
      "15 X 2 = 30\n",
      "15 X 3 = 45\n",
      "15 X 4 = 60\n",
      "15 X 5 = 75\n",
      "15 X 6 = 90\n",
      "15 X 7 = 105\n",
      "15 X 8 = 120\n",
      "15 X 9 = 135\n",
      "16 X 1 = 16\n",
      "16 X 2 = 32\n",
      "16 X 3 = 48\n",
      "16 X 4 = 64\n",
      "16 X 5 = 80\n",
      "16 X 6 = 96\n",
      "16 X 7 = 112\n",
      "16 X 8 = 128\n",
      "16 X 9 = 144\n",
      "17 X 1 = 17\n",
      "17 X 2 = 34\n",
      "17 X 3 = 51\n",
      "17 X 4 = 68\n",
      "17 X 5 = 85\n",
      "17 X 6 = 102\n",
      "17 X 7 = 119\n",
      "17 X 8 = 136\n",
      "17 X 9 = 153\n",
      "18 X 1 = 18\n",
      "18 X 2 = 36\n",
      "18 X 3 = 54\n",
      "18 X 4 = 72\n",
      "18 X 5 = 90\n",
      "18 X 6 = 108\n",
      "18 X 7 = 126\n",
      "18 X 8 = 144\n",
      "18 X 9 = 162\n",
      "19 X 1 = 19\n",
      "19 X 2 = 38\n",
      "19 X 3 = 57\n",
      "19 X 4 = 76\n",
      "19 X 5 = 95\n",
      "19 X 6 = 114\n",
      "19 X 7 = 133\n",
      "19 X 8 = 152\n",
      "19 X 9 = 171\n"
     ]
    }
   ],
   "source": []
  },
  {
   "cell_type": "code",
   "execution_count": null,
   "metadata": {},
   "outputs": [],
   "source": []
  },
  {
   "cell_type": "markdown",
   "metadata": {},
   "source": [
    "* Q) 100 까지 소수를 모두 찾아보세요!!!!"
   ]
  },
  {
   "cell_type": "code",
   "execution_count": 45,
   "metadata": {},
   "outputs": [
    {
     "name": "stdout",
     "output_type": "stream",
     "text": [
      "3\n",
      "5\n",
      "7\n",
      "11\n",
      "13\n",
      "17\n",
      "19\n",
      "23\n",
      "29\n",
      "31\n",
      "37\n",
      "41\n",
      "43\n",
      "47\n",
      "53\n",
      "59\n",
      "61\n",
      "67\n",
      "71\n",
      "73\n",
      "79\n",
      "83\n",
      "89\n",
      "97\n"
     ]
    }
   ],
   "source": [
    "primenumber=[]    # 소수들이 들어갈 빈 리스를 하나 만들고, \n",
    "for i in range(2, 100):  # 2부터 99까지에서 소수들을 골라낼 거임\n",
    "    if i==2:  #  만약 2라면 그냥 primenumber에 추가하고\n",
    "        primenumber.append(i)\n",
    "    else:\n",
    "        for j in primenumber:\n",
    "            if i%j==0:   # primenumber의 요소들로 i 가 나누어 떨어지는지 확인하여\n",
    "                break   # 나누어 떨어지면 소수가 아니므로 그냥 루프를 빠져 나오고\n",
    "        if j==primenumber[-1]:   # 끝까지  나누어 떨어지는 놈이 없었는지 확인\n",
    "            primenumber.append(i)  # 그렇다면 primenumber에 i를 추가한다.\n",
    "            print(i)"
   ]
  },
  {
   "cell_type": "markdown",
   "metadata": {},
   "source": [
    "* Q) 두 수 54, 24의 최대공약수, 공약수를 구해보세요!!!"
   ]
  },
  {
   "cell_type": "code",
   "execution_count": 50,
   "metadata": {},
   "outputs": [
    {
     "name": "stdout",
     "output_type": "stream",
     "text": [
      "공약수 : [2, 3]\n",
      "최대 공약수 : 6\n"
     ]
    }
   ],
   "source": [
    "divisor=[]\n",
    "def gongyak(a,b):\n",
    "    kk = []\n",
    "    gcm = 1\n",
    "    for k in range(2, min(a,b)+1):\n",
    "        if (a % k == 0) and (b % k == 0):\n",
    "            kk.append(k)\n",
    "            a = a // k\n",
    "            b = b // k\n",
    "            gcm = gcm * k\n",
    "    print (\"공약수 : \" + str(kk))\n",
    "    print (\"최대 공약수 : \" + str(gcm))\n",
    "    \n",
    "gongyak(54,24)\n",
    "    "
   ]
  },
  {
   "cell_type": "markdown",
   "metadata": {},
   "source": [
    "*Q) @@@@@ 을 출력하세요!!!"
   ]
  },
  {
   "cell_type": "code",
   "execution_count": 50,
   "metadata": {},
   "outputs": [
    {
     "name": "stdout",
     "output_type": "stream",
     "text": [
      "@@@@@\n"
     ]
    }
   ],
   "source": [
    "print(\"@\"+\"@\"+\"@\"+\"@\"+\"@\")"
   ]
  },
  {
   "cell_type": "code",
   "execution_count": 51,
   "metadata": {},
   "outputs": [
    {
     "name": "stdout",
     "output_type": "stream",
     "text": [
      "@@@@@\n"
     ]
    }
   ],
   "source": [
    "print(\"@\"*5)"
   ]
  },
  {
   "cell_type": "code",
   "execution_count": 52,
   "metadata": {},
   "outputs": [
    {
     "name": "stdout",
     "output_type": "stream",
     "text": [
      "*****"
     ]
    }
   ],
   "source": [
    "for i in range(5):\n",
    "    print(\"*\",end=\"\")"
   ]
  },
  {
   "cell_type": "code",
   "execution_count": 53,
   "metadata": {},
   "outputs": [
    {
     "name": "stdout",
     "output_type": "stream",
     "text": [
      "@@@@@"
     ]
    }
   ],
   "source": [
    "for i in range(5):\n",
    "    print(\"@\", end=\"\")"
   ]
  },
  {
   "cell_type": "code",
   "execution_count": 54,
   "metadata": {},
   "outputs": [
    {
     "name": "stdout",
     "output_type": "stream",
     "text": [
      "반복할 수를 입력하세요!!!!7\n",
      "@@@@@@@"
     ]
    }
   ],
   "source": [
    "num = int(input(\"반복할 수를 입력하세요!!!!\"))\n",
    "\n",
    "for i in range(num):\n",
    "    print(\"@\", end=\"\")"
   ]
  },
  {
   "cell_type": "markdown",
   "metadata": {},
   "source": [
    "* Q)   \n",
    "@@@@@  \n",
    "@@@@@  \n",
    "@@@@@  \n",
    "@@@@@  "
   ]
  },
  {
   "cell_type": "code",
   "execution_count": 62,
   "metadata": {},
   "outputs": [
    {
     "name": "stdout",
     "output_type": "stream",
     "text": [
      "@@@@@\n",
      "@@@@@\n",
      "@@@@@\n",
      "@@@@@\n",
      "@@@@@\n"
     ]
    }
   ],
   "source": [
    "a = [5,5,5,5,5]\n",
    "for i in a:\n",
    "    print(\"@\"*(i), end=\"\\n\")"
   ]
  },
  {
   "cell_type": "code",
   "execution_count": 64,
   "metadata": {},
   "outputs": [
    {
     "name": "stdout",
     "output_type": "stream",
     "text": [
      "@\n",
      "@@\n",
      "@@@\n",
      "@@@@\n",
      "@@@@@\n"
     ]
    }
   ],
   "source": [
    "for i in range(5):\n",
    "    print(\"@\"*(i+1), end=\"\\n\")"
   ]
  },
  {
   "cell_type": "code",
   "execution_count": 57,
   "metadata": {},
   "outputs": [
    {
     "name": "stdout",
     "output_type": "stream",
     "text": [
      "@\n",
      "@@\n",
      "@@@\n",
      "@@@@\n",
      "@@@@@\n"
     ]
    }
   ],
   "source": []
  },
  {
   "cell_type": "code",
   "execution_count": 76,
   "metadata": {},
   "outputs": [
    {
     "name": "stdout",
     "output_type": "stream",
     "text": [
      "@@@@@\n",
      " @@@@\n",
      "  @@@\n",
      "   @@\n",
      "    @\n"
     ]
    }
   ],
   "source": [
    "for i in range(5):\n",
    "    print(\" \"*(i) + \"@\"*(5-i), end=\"\\n\")"
   ]
  },
  {
   "cell_type": "code",
   "execution_count": null,
   "metadata": {},
   "outputs": [],
   "source": []
  },
  {
   "cell_type": "markdown",
   "metadata": {},
   "source": [
    "* Q) 위의 그림을 만드세요!!!"
   ]
  },
  {
   "cell_type": "code",
   "execution_count": null,
   "metadata": {},
   "outputs": [],
   "source": [
    "1줄 : 5개 찍기\n",
    "2줄 : 4개 찍기\n",
    "3줄 : 3개 찍기\n",
    "4줄 : 2개 찍기\n",
    "5중 : 1개 찍기"
   ]
  },
  {
   "cell_type": "code",
   "execution_count": null,
   "metadata": {},
   "outputs": [],
   "source": [
    "힌트   \n",
    "\n",
    "@@@@*\n",
    "@@@**\n",
    "@@***\n",
    "@****\n",
    "*****"
   ]
  },
  {
   "cell_type": "code",
   "execution_count": 69,
   "metadata": {
    "scrolled": true
   },
   "outputs": [
    {
     "name": "stdout",
     "output_type": "stream",
     "text": [
      "@@@@@\n",
      "@@@@\n",
      "@@@\n",
      "@@\n",
      "@\n"
     ]
    }
   ],
   "source": [
    "for i in range(5):\n",
    "    print(\"@\"*(5-i), end=\"\\n\")"
   ]
  },
  {
   "cell_type": "code",
   "execution_count": 62,
   "metadata": {},
   "outputs": [
    {
     "name": "stdout",
     "output_type": "stream",
     "text": [
      "    @\n",
      "   @@@\n",
      "  @@@@@\n",
      " @@@@@@@\n",
      "@@@@@@@@@\n"
     ]
    }
   ],
   "source": []
  },
  {
   "cell_type": "markdown",
   "metadata": {},
   "source": [
    "* Q) 위의 그림을 만드세요!"
   ]
  },
  {
   "cell_type": "code",
   "execution_count": 91,
   "metadata": {
    "scrolled": true
   },
   "outputs": [
    {
     "name": "stdout",
     "output_type": "stream",
     "text": [
      "    @\n",
      "   @@@\n",
      "  @@@@@\n",
      " @@@@@@@\n",
      "@@@@@@@@@\n"
     ]
    }
   ],
   "source": [
    "for i in range(5) :\n",
    "    print((\" \"*(4-i)) + \"@\"*((2*i)+1), end=\"\\n\")"
   ]
  },
  {
   "cell_type": "code",
   "execution_count": 64,
   "metadata": {},
   "outputs": [
    {
     "name": "stdout",
     "output_type": "stream",
     "text": [
      "@@@@@@@@@\n",
      " @@@@@@@\n",
      "  @@@@@\n",
      "   @@@\n",
      "    @\n"
     ]
    }
   ],
   "source": []
  },
  {
   "cell_type": "markdown",
   "metadata": {},
   "source": [
    "* Q) 위의 그림을 만드세요"
   ]
  },
  {
   "cell_type": "code",
   "execution_count": 94,
   "metadata": {},
   "outputs": [
    {
     "name": "stdout",
     "output_type": "stream",
     "text": [
      "@@@@@@@@@\n",
      " @@@@@@@\n",
      "  @@@@@\n",
      "   @@@\n",
      "    @\n"
     ]
    }
   ],
   "source": [
    "for i in range(5) :\n",
    "    print((\" \"*(i)) + \"@\"*(9-(2*i)), end=\"\\n\")"
   ]
  },
  {
   "cell_type": "code",
   "execution_count": null,
   "metadata": {},
   "outputs": [],
   "source": []
  },
  {
   "cell_type": "code",
   "execution_count": 69,
   "metadata": {},
   "outputs": [
    {
     "name": "stdout",
     "output_type": "stream",
     "text": [
      "\n",
      "1\n",
      "22\n",
      "333\n",
      "4444\n",
      "55555\n",
      "666666\n",
      "7777777\n",
      "88888888\n",
      "999999999\n"
     ]
    }
   ],
   "source": []
  },
  {
   "cell_type": "markdown",
   "metadata": {},
   "source": [
    "* 위와 같은 결과를 만드세요"
   ]
  },
  {
   "cell_type": "code",
   "execution_count": 105,
   "metadata": {},
   "outputs": [
    {
     "name": "stdout",
     "output_type": "stream",
     "text": [
      "1\n",
      "22\n",
      "333\n",
      "4444\n",
      "55555\n",
      "666666\n",
      "7777777\n",
      "88888888\n",
      "999999999\n"
     ]
    }
   ],
   "source": [
    "for i in range(1,10):\n",
    "    print(str(i)*i)"
   ]
  },
  {
   "cell_type": "code",
   "execution_count": null,
   "metadata": {},
   "outputs": [],
   "source": []
  },
  {
   "cell_type": "markdown",
   "metadata": {},
   "source": [
    "* Q) * Q) 1부터 50까지에서 3의 배수에는 three, 5의 배수에는 five, 3과 5의 공배수에는 three-five를 출력하세요   \n",
    "1  \n",
    "2  \n",
    "three  \n",
    "4  \n",
    "five  \n",
    "...\n",
    "14  \n",
    "three-five\n",
    "16\n",
    "..."
   ]
  },
  {
   "cell_type": "code",
   "execution_count": 108,
   "metadata": {},
   "outputs": [
    {
     "name": "stdout",
     "output_type": "stream",
     "text": [
      "1\n",
      "2\n",
      "three\n",
      "4\n",
      "five\n",
      "three\n",
      "7\n",
      "8\n",
      "three\n",
      "five\n",
      "11\n",
      "three\n",
      "13\n",
      "14\n",
      "three-five\n",
      "16\n",
      "17\n",
      "three\n",
      "19\n",
      "five\n",
      "three\n",
      "22\n",
      "23\n",
      "three\n",
      "five\n",
      "26\n",
      "three\n",
      "28\n",
      "29\n",
      "three-five\n",
      "31\n",
      "32\n",
      "three\n",
      "34\n",
      "five\n",
      "three\n",
      "37\n",
      "38\n",
      "three\n",
      "five\n",
      "41\n",
      "three\n",
      "43\n",
      "44\n",
      "three-five\n",
      "46\n",
      "47\n",
      "three\n",
      "49\n",
      "five\n"
     ]
    }
   ],
   "source": [
    "for i in range(1,51) :\n",
    "    if (i%3 == 0) and (i%5 == 0) :\n",
    "        print(\"three-five\")\n",
    "    elif i%3 == 0 :\n",
    "        print(\"three\")\n",
    "    elif i%5 == 0 :\n",
    "        print(\"five\")\n",
    "    else :\n",
    "        print(i)"
   ]
  },
  {
   "cell_type": "markdown",
   "metadata": {},
   "source": [
    "* Q) 입력 : 월/일 의 2개의 정보를 받아서, 어느 계절인지 나타내어라!!\n",
    "(예 : 3월 12일 --> 봄, 12월 24일 --> 겨울)\n",
    "(단, 봄:3~5, 여름:6~8, 가을 9~11, 겨울 12~2)"
   ]
  },
  {
   "cell_type": "code",
   "execution_count": 109,
   "metadata": {},
   "outputs": [
    {
     "name": "stdout",
     "output_type": "stream",
     "text": [
      "몇월?1\n",
      "몇일?22\n",
      "겨울\n"
     ]
    }
   ],
   "source": [
    "month = int(input(\"몇월?\"))\n",
    "day = int(input(\"몇일?\"))\n",
    "if (month == 3) or (month == 4) or (month == 5) :\n",
    "    print(\"봄바람 휘날리면~\")\n",
    "elif (month == 6) or (month == 7) or (month == 8) :\n",
    "    print(\"여름\")\n",
    "elif (month == 9) or (month == 10) or (month == 11) :\n",
    "    print(\"가을\")\n",
    "else :\n",
    "    print(\"겨울\")"
   ]
  },
  {
   "cell_type": "markdown",
   "metadata": {},
   "source": [
    "* Q) 학생의 점수을 입력을 받아서, 그 점수에 해당하는 학점을 출력을 하고, 그 학점이 A는 \"참 잘했습니다\", B는 \"잘 했습니다.\", C는 \"좀 더 노력하세요\", D는 \"재수강을 권장합니다\", F는 \"꼭 다시 들으세요!!!\"로 판별해주기.  \n",
    "단, F: 40점 미만, D:40점 이상~60점 미만, C : 60이상~80점 미만, B:80이상~90점 미만, A:90점 이상 이상"
   ]
  },
  {
   "cell_type": "code",
   "execution_count": 30,
   "metadata": {},
   "outputs": [
    {
     "name": "stdout",
     "output_type": "stream",
     "text": [
      "점수가 어떻게 되시나요?75\n",
      "C학점. 좀 더 노력하세요\n"
     ]
    }
   ],
   "source": [
    "score = int(input(\"점수가 어떻게 되시나요?\"))\n",
    "if score < 40 :\n",
    "    print(\"F학점. 꼭 다시들으세요\")\n",
    "elif score >= 40 and score < 60 :\n",
    "    print(\"D학점. 재수강을 권장합니다\")\n",
    "elif score >= 60 and score < 80 :\n",
    "    print(\"C학점. 좀 더 노력하세요\")\n",
    "elif score >= 80 and score < 90 :\n",
    "    print(\"B학점. 잘 했습니다!\")\n",
    "elif score >= 90 :\n",
    "    print(\"A학점. 참 잘했습니다!!\")"
   ]
  },
  {
   "cell_type": "markdown",
   "metadata": {},
   "source": [
    "* 한 점을 구성하는 (x,y)의 좌표를 입력받고, 이 점이 (50,40), (50,80), (100,40), (100,80)을 꼭지점으로 하는 사각형 안에 있는지 판단하세요!!!"
   ]
  },
  {
   "cell_type": "code",
   "execution_count": 112,
   "metadata": {},
   "outputs": [
    {
     "name": "stdout",
     "output_type": "stream",
     "text": [
      "x의 값을 입력하세요10\n",
      "y의 값을 입력하세요12\n",
      "밖에 있습니다.\n"
     ]
    }
   ],
   "source": [
    "x = int(input(\"x의 값을 입력하세요\"))\n",
    "y = int(input(\"y의 값을 입력하세요\"))\n",
    "if (x >= 50) & (x <= 100) & (y >= 40) & (y <= 80) :\n",
    "    print(\"안에 있습니다.\")\n",
    "else :\n",
    "    print(\"밖에 있습니다.\")"
   ]
  },
  {
   "cell_type": "code",
   "execution_count": 1,
   "metadata": {},
   "outputs": [
    {
     "name": "stdout",
     "output_type": "stream",
     "text": [
      "x의 값을 입력하세요10\n",
      "y의 값을 입력하세요22\n",
      "밖에 있습니다.\n"
     ]
    }
   ],
   "source": []
  },
  {
   "cell_type": "markdown",
   "metadata": {},
   "source": [
    "* Q) 입력한 수의 각 자리수를 더하는 프로그램을 작성하시오.  \n",
    "예 : 12345--> 1+2+3+4+5=15"
   ]
  },
  {
   "cell_type": "code",
   "execution_count": 117,
   "metadata": {},
   "outputs": [
    {
     "name": "stdout",
     "output_type": "stream",
     "text": [
      "입력하세요!!!12345\n",
      "15\n"
     ]
    }
   ],
   "source": [
    "num = input(\"입력하세요!!!\")\n",
    "result = 0\n",
    "for i in range(0,len(num)+1):\n",
    "    result += i\n",
    "print(result)"
   ]
  },
  {
   "cell_type": "markdown",
   "metadata": {},
   "source": [
    "* Q) a,b,c가 자연수 일때, a + b + c = 100을 만족하는 중복되지 않는 세 자연수의 개수를 구하는 프로그램을 작성하시오. 예를 들어서(30,40,30)은 (40,30,30)과 같은 경우라고 한다!!!!"
   ]
  },
  {
   "cell_type": "code",
   "execution_count": 1,
   "metadata": {},
   "outputs": [
    {
     "name": "stdout",
     "output_type": "stream",
     "text": [
      "833\n"
     ]
    }
   ],
   "source": [
    "count1 = 0\n",
    "count2 = 0\n",
    "count3 = 0\n",
    "for i in range(1,99) :\n",
    "    for j in range(1,(100-i)) :\n",
    "        a = i\n",
    "        b = j\n",
    "        c = 100 - (i+j)\n",
    "        if (a != b) and (a != c) and (b != c) :\n",
    "            count1 += 1\n",
    "        elif (a == b) and (a != c) :\n",
    "            count2 += 1\n",
    "        elif (a == c) and (a != b) :\n",
    "            count2 += 1\n",
    "        elif (b == c) and (b != a) :\n",
    "            count2 +=1\n",
    "        else :\n",
    "            count3 += 1\n",
    "count = int(count1/6) + int(count2/3) + count3\n",
    "print(count)\n",
    "        "
   ]
  },
  {
   "cell_type": "code",
   "execution_count": 4,
   "metadata": {},
   "outputs": [
    {
     "name": "stdout",
     "output_type": "stream",
     "text": [
      "833\n"
     ]
    }
   ],
   "source": []
  },
  {
   "cell_type": "markdown",
   "metadata": {},
   "source": [
    "* Q) 1부터 100까지의 나열 할 때 1~9까지 숫자는 각각 몇 번 나타나는지를 세어 보세요!!!"
   ]
  },
  {
   "cell_type": "code",
   "execution_count": 131,
   "metadata": {},
   "outputs": [
    {
     "name": "stdout",
     "output_type": "stream",
     "text": [
      "0 : 11\n",
      "1 : 21\n",
      "2 : 20\n",
      "3 : 20\n",
      "4 : 20\n",
      "5 : 20\n",
      "6 : 20\n",
      "7 : 20\n",
      "8 : 20\n",
      "9 : 20\n"
     ]
    }
   ],
   "source": [
    "a = list(range(1,101))\n",
    "a = str(a)\n",
    "zero = 0\n",
    "one = 0\n",
    "two = 0\n",
    "three = 0\n",
    "four = 0\n",
    "five = 0\n",
    "six = 0\n",
    "seven = 0\n",
    "eight = 0\n",
    "nine = 0\n",
    "\n",
    "for i in range(0,len(a)) :\n",
    "    if '0' in a[i] :\n",
    "        zero += 1\n",
    "    elif '1' in a[i] :\n",
    "        one += 1\n",
    "    elif '2' in a[i] :\n",
    "        two += 1\n",
    "    elif '3' in a[i] :\n",
    "        three += 1\n",
    "    elif '4' in a[i] :\n",
    "        four += 1\n",
    "    elif '5' in a[i] :\n",
    "        five += 1\n",
    "    elif '6' in a[i] :\n",
    "        six += 1\n",
    "    elif '7' in a[i] :\n",
    "        seven += 1\n",
    "    elif '8' in a[i] :\n",
    "        eight += 1\n",
    "    elif '9' in a[i] :\n",
    "        nine += 1\n",
    "    \n",
    "print(\"0 : \" + str(zero))\n",
    "print(\"1 : \" + str(one))\n",
    "print(\"2 : \" + str(two))\n",
    "print(\"3 : \" + str(three))\n",
    "print(\"4 : \" + str(four))\n",
    "print(\"5 : \" + str(five))\n",
    "print(\"6 : \" + str(six))\n",
    "print(\"7 : \" + str(seven))\n",
    "print(\"8 : \" + str(eight))\n",
    "print(\"9 : \" + str(nine))\n"
   ]
  },
  {
   "cell_type": "code",
   "execution_count": 21,
   "metadata": {},
   "outputs": [
    {
     "name": "stdout",
     "output_type": "stream",
     "text": [
      "0 : 11\n",
      "1 : 21\n",
      "2 : 20\n",
      "3 : 20\n",
      "4 : 20\n",
      "5 : 20\n",
      "6 : 20\n",
      "7 : 20\n",
      "8 : 20\n",
      "9 : 20\n"
     ]
    }
   ],
   "source": []
  },
  {
   "cell_type": "markdown",
   "metadata": {},
   "source": [
    "* Q) a = [20,55,67,82,45,33,90,87,100,25]점수일 때, 50점 이상인 점수들의 합!!!!!   \n",
    "방법 1 : for/ range사용,  \n",
    "방법 2 : for/ 직접 값 사용,  \n",
    "방법 3 : while사용"
   ]
  },
  {
   "cell_type": "code",
   "execution_count": 1,
   "metadata": {},
   "outputs": [],
   "source": [
    "a = [20,55,67,82,45,33,90,87,100,25]"
   ]
  },
  {
   "cell_type": "code",
   "execution_count": 5,
   "metadata": {},
   "outputs": [
    {
     "name": "stdout",
     "output_type": "stream",
     "text": [
      "481\n"
     ]
    }
   ],
   "source": [
    "# 방법 1 : for/range 사용\n",
    "sumof1 = 0\n",
    "for i in range(0,len(a)):\n",
    "    if a[i] >= 50 :\n",
    "        sumof1 += a[i]\n",
    "print(sumof1)"
   ]
  },
  {
   "cell_type": "code",
   "execution_count": 6,
   "metadata": {},
   "outputs": [
    {
     "name": "stdout",
     "output_type": "stream",
     "text": [
      "481\n"
     ]
    }
   ],
   "source": [
    "# 방법 2 : for/ 직접 값 사용\n",
    "sumof2 = 0\n",
    "for i in a :\n",
    "    if i >= 50 :\n",
    "        sumof2 += i\n",
    "print(sumof2)\n",
    "        "
   ]
  },
  {
   "cell_type": "code",
   "execution_count": 9,
   "metadata": {},
   "outputs": [
    {
     "name": "stdout",
     "output_type": "stream",
     "text": [
      "481\n"
     ]
    }
   ],
   "source": [
    "# 방법 3 : while 사용\n",
    "sumof3 = 0\n",
    "i = 0\n",
    "while i < len(a) :\n",
    "    if a[i] >= 50 :\n",
    "        sumof3 += a[i]\n",
    "    i+=1\n",
    "        \n",
    "print(sumof3)"
   ]
  },
  {
   "cell_type": "markdown",
   "metadata": {},
   "source": [
    "* Q) 1부터 100까지 3의 배수들의 합!!!!! for"
   ]
  },
  {
   "cell_type": "code",
   "execution_count": 13,
   "metadata": {},
   "outputs": [
    {
     "name": "stdout",
     "output_type": "stream",
     "text": [
      "1683\n"
     ]
    }
   ],
   "source": [
    "a = list(range(1,101))\n",
    "sum3 = 0\n",
    "for i in a :\n",
    "    if i % 3 == 0 :\n",
    "        sum3 += i\n",
    "print(sum3)"
   ]
  },
  {
   "cell_type": "markdown",
   "metadata": {},
   "source": [
    "* Q)1부터 100까지 3의 배수들의 합!!!!! while"
   ]
  },
  {
   "cell_type": "code",
   "execution_count": 15,
   "metadata": {},
   "outputs": [
    {
     "name": "stdout",
     "output_type": "stream",
     "text": [
      "1683\n"
     ]
    }
   ],
   "source": [
    "sum3while = 0\n",
    "i = 0\n",
    "while i < len(a) :\n",
    "    if a[i] % 3 == 0 :\n",
    "        sum3while += a[i]\n",
    "    i += 1\n",
    "print(sum3while)"
   ]
  },
  {
   "cell_type": "markdown",
   "metadata": {},
   "source": [
    "* 야구 게임 : 1S 1B 1O에 대한 것을 만들어 보시오. 다만 처음에 하기 위해서는 random으로 시작을 해야함!!!"
   ]
  },
  {
   "cell_type": "markdown",
   "metadata": {},
   "source": [
    "## from 패키지 이름 import 세부 패키지"
   ]
  },
  {
   "cell_type": "code",
   "execution_count": 2,
   "metadata": {},
   "outputs": [
    {
     "name": "stdout",
     "output_type": "stream",
     "text": [
      "623\n",
      "첫번째 숫자를 입력하세요6\n",
      "두번째 숫자를 입력하세요3\n",
      "세번째 숫자를 입력하세요2\n",
      "ball: 2 strike: 1\n",
      "623\n",
      "첫번째 숫자를 입력하세요6\n",
      "두번째 숫자를 입력하세요3\n",
      "세번째 숫자를 입력하세요2\n",
      "ball: 2 strike: 1\n",
      "623\n",
      "첫번째 숫자를 입력하세요6\n",
      "두번째 숫자를 입력하세요2\n",
      "세번째 숫자를 입력하세요3\n",
      "Game End\n"
     ]
    }
   ],
   "source": [
    "from random import randint\n",
    "f = randint(1,9)\n",
    "s = randint(1,9)\n",
    "t = randint(1,9)\n",
    "\n",
    "for i in range(0,100) :\n",
    "    ball = 0\n",
    "    strike = 0\n",
    "    print(str(f) + str(s) + str(t))\n",
    "    f_1 = int(input(\"첫번째 숫자를 입력하세요\"))\n",
    "    if f_1 == f :\n",
    "        strike += 1\n",
    "    elif f_1 == s or f_1 == t :\n",
    "        ball += 1\n",
    "\n",
    "    s_1 = int(input(\"두번째 숫자를 입력하세요\"))\n",
    "    if s_1 == s :\n",
    "        strike += 1\n",
    "    elif s_1 == f or s_1 == t :\n",
    "        ball += 1\n",
    "\n",
    "    t_1 = int(input(\"세번째 숫자를 입력하세요\"))\n",
    "    if t_1 == t :\n",
    "        strike += 1\n",
    "    elif t_1 == f or t_1 == s :\n",
    "        ball += 1\n",
    "\n",
    "    if strike == 3 :\n",
    "        print (\"Game End\")\n",
    "        break\n",
    "    else :\n",
    "        print(\"ball: \" + str(ball) + \" strike: \" + str(strike))"
   ]
  },
  {
   "cell_type": "code",
   "execution_count": 4,
   "metadata": {},
   "outputs": [
    {
     "name": "stdout",
     "output_type": "stream",
     "text": [
      "9 7 8\n",
      "첫번째 숫자를 입력하세요: 9\n",
      "두번째 숫자를 입력하세요: 7\n",
      "세번째 숫자를 입력하세요: 1\n",
      "Ball: 0 Strike: 2\n",
      "9 7 8\n",
      "첫번째 숫자를 입력하세요: 9\n",
      "두번째 숫자를 입력하세요: 8\n",
      "세번째 숫자를 입력하세요: 7\n",
      "Ball: 2 Strike: 1\n",
      "9 7 8\n",
      "첫번째 숫자를 입력하세요: 9\n",
      "두번째 숫자를 입력하세요: 7\n",
      "세번째 숫자를 입력하세요: 8\n",
      "Game End\n"
     ]
    }
   ],
   "source": [
    "from random import randint\n",
    "\n"
   ]
  },
  {
   "cell_type": "markdown",
   "metadata": {},
   "source": [
    "* Q)숫자 up/down으로 1~100까지 수 중에서 알아 맞추기!!! random이용!!!"
   ]
  },
  {
   "cell_type": "code",
   "execution_count": 134,
   "metadata": {},
   "outputs": [
    {
     "name": "stdout",
     "output_type": "stream",
     "text": [
      "1~100 숫자 up & down 게임을 시작합니다 !!!\n",
      "---------------------------\n",
      "1 ~ 100 사이의 숫자를 입력하세요 : 67\n",
      "Down\n",
      "1 ~ 100 사이의 숫자를 입력하세요 : 54\n",
      "Down\n",
      "1 ~ 100 사이의 숫자를 입력하세요 : 27\n",
      "Up\n",
      "1 ~ 100 사이의 숫자를 입력하세요 : 40\n",
      "Up\n",
      "1 ~ 100 사이의 숫자를 입력하세요 : 47\n",
      "Up\n",
      "1 ~ 100 사이의 숫자를 입력하세요 : 52\n",
      "Down\n",
      "1 ~ 100 사이의 숫자를 입력하세요 : 51\n",
      "Down\n",
      "1 ~ 100 사이의 숫자를 입력하세요 : 50\n",
      "Down\n",
      "1 ~ 100 사이의 숫자를 입력하세요 : 48\n",
      "Up\n",
      "1 ~ 100 사이의 숫자를 입력하세요 : 49\n",
      "9 번 만에 정답을 맞추셨습니다.\n",
      "---------------------------\n"
     ]
    }
   ],
   "source": [
    "import random\n",
    "\n",
    "# 게임을 위한 랜덤 숫자 생성\n",
    "rn = random.randrange(1, 101, 1)\n",
    "count = 0\n",
    "print(\"1~100 숫자 up & down 게임을 시작합니다 !!!\")\n",
    "print(\"---------------------------\")\n",
    "for i in range(0,1000) :\n",
    "    guess = int(input(\"1 ~ 100 사이의 숫자를 입력하세요 : \"))\n",
    "    if guess > rn :\n",
    "        print(\"Down\")\n",
    "        count += 1\n",
    "    elif guess < rn :\n",
    "        print(\"Up\")\n",
    "        count += 1\n",
    "    else :\n",
    "        print(str(count) + \" 번 만에 정답을 맞추셨습니다.\")\n",
    "        break\n",
    "print(\"---------------------------\")"
   ]
  },
  {
   "cell_type": "code",
   "execution_count": 4,
   "metadata": {},
   "outputs": [
    {
     "name": "stdout",
     "output_type": "stream",
     "text": [
      "1~100 숫자 Up & Down 게임을 시작합니다 !!!\n",
      "---------------------------\n",
      "1 ~ 100 사이의 숫자를 입력하세요 : 30\n",
      "Down\n",
      "1 ~ 100 사이의 숫자를 입력하세요 : 155\n",
      "Down\n",
      "1 ~ 100 사이의 숫자를 입력하세요 : 15\n",
      "Down\n",
      "1 ~ 100 사이의 숫자를 입력하세요 : 8\n",
      "Down\n",
      "1 ~ 100 사이의 숫자를 입력하세요 : 4\n",
      "Down\n",
      "1 ~ 100 사이의 숫자를 입력하세요 : 2\n",
      "---------------------------\n",
      "6 번 만에 정답을 맞추셨습니다.\n"
     ]
    }
   ],
   "source": [
    "import random\n",
    "\n",
    "# 게임을 위한 랜덤 숫자 생성\n",
    "rn = random.randrange(1, 101, 1)\n"
   ]
  },
  {
   "cell_type": "markdown",
   "metadata": {},
   "source": [
    "* Q) 1부터 입력받은 수까지 \"합의 제곱\"의 결과와 \"제곱의 합\"과의 차이를 구하시오!!!    \n",
    "제곱의 합 : 1^2 + 2^2 + ... + 10^2 = 385   \n",
    "합의 제곱 : (1+2+3..+10)^2 = 3025"
   ]
  },
  {
   "cell_type": "code",
   "execution_count": 122,
   "metadata": {},
   "outputs": [
    {
     "name": "stdout",
     "output_type": "stream",
     "text": [
      "입력하세요!!!10\n",
      "2640\n"
     ]
    }
   ],
   "source": [
    "num = int(input(\"입력하세요!!!\"))\n",
    "sqofsum = 0\n",
    "sumofsq = 0\n",
    "for i in range(1,num+1) :\n",
    "    sqofsum += i\n",
    "    sumofsq += i**2\n",
    "print(sqofsum**2 - sumofsq)"
   ]
  },
  {
   "cell_type": "code",
   "execution_count": 6,
   "metadata": {},
   "outputs": [
    {
     "name": "stdout",
     "output_type": "stream",
     "text": [
      "입력하세요!!!10\n",
      "2640\n"
     ]
    }
   ],
   "source": []
  },
  {
   "cell_type": "code",
   "execution_count": null,
   "metadata": {},
   "outputs": [],
   "source": []
  },
  {
   "cell_type": "markdown",
   "metadata": {},
   "source": [
    "* Q)  핸드폰 번호 뒤에 4자리만 남기고, 앞의 7자리에 대한 것을 *로 지워보세요!!! (함수 만들어서!!!)"
   ]
  },
  {
   "cell_type": "code",
   "execution_count": 25,
   "metadata": {},
   "outputs": [],
   "source": [
    "def encryfunc(num) :\n",
    "    num = num.replace(num[:-4:1], \"*\"*(len(num)-4))\n",
    "    return num\n",
    "\n",
    "# list(range(-4,1))\n",
    "# a = \"010-1234-5678\"\n",
    "# a = a.replace(a[:-4:1], \"*******\")\n",
    "# print(a)"
   ]
  },
  {
   "cell_type": "code",
   "execution_count": 26,
   "metadata": {},
   "outputs": [
    {
     "data": {
      "text/plain": [
       "'*********5678'"
      ]
     },
     "execution_count": 26,
     "metadata": {},
     "output_type": "execute_result"
    }
   ],
   "source": [
    "encryfunc(\"010-1234-5678\")"
   ]
  },
  {
   "cell_type": "code",
   "execution_count": 27,
   "metadata": {},
   "outputs": [
    {
     "data": {
      "text/plain": [
       "'*******5678'"
      ]
     },
     "execution_count": 27,
     "metadata": {},
     "output_type": "execute_result"
    }
   ],
   "source": [
    "encryfunc(\"01034565678\")"
   ]
  },
  {
   "cell_type": "markdown",
   "metadata": {},
   "source": [
    "* Q) 연습문제 : computepay라는 함수를 만들어서, 근무 시간과 초과근무 시 비율을 입력하고, 월급을 계산하는 함수를 만드세요!!(월 기준으로 8시간 * 5일 * 4주 =160시간이 기준, 160시간까지는 1시간당 월급이 1만원, 초과 근무 시 비율이 만약에 50%라면 1.5만원, 초과 근무 시 비율이 30%라면 1.3만원)     \n",
    "예 : computpay(170, 50) --> 160 X 1 + 10 X 1 X 1.5 (원)"
   ]
  },
  {
   "cell_type": "code",
   "execution_count": 127,
   "metadata": {},
   "outputs": [],
   "source": [
    "def computepay(a,b):\n",
    "        sumsal = (a - 160)*(10000*(1+(b/100))) + 1600000\n",
    "        return sumsal"
   ]
  },
  {
   "cell_type": "code",
   "execution_count": 128,
   "metadata": {},
   "outputs": [
    {
     "name": "stdout",
     "output_type": "stream",
     "text": [
      "2240000.0\n"
     ]
    }
   ],
   "source": [
    "tom = computepay(200, 60)\n",
    "print(tom)"
   ]
  },
  {
   "cell_type": "code",
   "execution_count": null,
   "metadata": {},
   "outputs": [],
   "source": []
  },
  {
   "cell_type": "code",
   "execution_count": null,
   "metadata": {},
   "outputs": [],
   "source": []
  },
  {
   "cell_type": "code",
   "execution_count": null,
   "metadata": {},
   "outputs": [],
   "source": []
  },
  {
   "cell_type": "code",
   "execution_count": null,
   "metadata": {},
   "outputs": [],
   "source": []
  },
  {
   "cell_type": "code",
   "execution_count": null,
   "metadata": {},
   "outputs": [],
   "source": []
  }
 ],
 "metadata": {
  "kernelspec": {
   "display_name": "Python 3",
   "language": "python",
   "name": "python3"
  },
  "language_info": {
   "codemirror_mode": {
    "name": "ipython",
    "version": 3
   },
   "file_extension": ".py",
   "mimetype": "text/x-python",
   "name": "python",
   "nbconvert_exporter": "python",
   "pygments_lexer": "ipython3",
   "version": "3.7.4"
  },
  "toc": {
   "base_numbering": 1,
   "nav_menu": {},
   "number_sections": true,
   "sideBar": true,
   "skip_h1_title": false,
   "title_cell": "Table of Contents",
   "title_sidebar": "Contents",
   "toc_cell": false,
   "toc_position": {},
   "toc_section_display": true,
   "toc_window_display": false
  },
  "varInspector": {
   "cols": {
    "lenName": 16,
    "lenType": 16,
    "lenVar": 40
   },
   "kernels_config": {
    "python": {
     "delete_cmd_postfix": "",
     "delete_cmd_prefix": "del ",
     "library": "var_list.py",
     "varRefreshCmd": "print(var_dic_list())"
    },
    "r": {
     "delete_cmd_postfix": ") ",
     "delete_cmd_prefix": "rm(",
     "library": "var_list.r",
     "varRefreshCmd": "cat(var_dic_list()) "
    }
   },
   "types_to_exclude": [
    "module",
    "function",
    "builtin_function_or_method",
    "instance",
    "_Feature"
   ],
   "window_display": false
  },
  "widgets": {
   "state": {},
   "version": "1.1.2"
  }
 },
 "nbformat": 4,
 "nbformat_minor": 2
}
