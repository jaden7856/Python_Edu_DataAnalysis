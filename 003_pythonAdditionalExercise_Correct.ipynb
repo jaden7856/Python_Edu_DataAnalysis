{
 "cells": [
  {
   "cell_type": "code",
   "execution_count": 1,
   "metadata": {},
   "outputs": [
    {
     "name": "stdout",
     "output_type": "stream",
     "text": [
      "220.0\n"
     ]
    }
   ],
   "source": [
    "print(4400/20)"
   ]
  },
  {
   "cell_type": "code",
   "execution_count": 2,
   "metadata": {},
   "outputs": [
    {
     "name": "stdout",
     "output_type": "stream",
     "text": [
      "146.66666666666666\n",
      "146\n",
      "20\n"
     ]
    }
   ],
   "source": [
    "print(4400/30)\n",
    "print(4400//30)\n",
    "print(4400-(4400//30*30))"
   ]
  },
  {
   "cell_type": "code",
   "execution_count": 10,
   "metadata": {},
   "outputs": [
    {
     "name": "stdout",
     "output_type": "stream",
     "text": [
      "72.5\n"
     ]
    }
   ],
   "source": [
    "k = 80\n",
    "m = 55\n",
    "e = 75\n",
    "s = 80\n",
    "score = [k,m,e,s]\n",
    "sum(score)\n",
    "print(sum(score)/len(score))"
   ]
  },
  {
   "cell_type": "code",
   "execution_count": 19,
   "metadata": {},
   "outputs": [
    {
     "name": "stdout",
     "output_type": "stream",
     "text": [
      "한국어 점수를 입력해주세요!!!80\n",
      "수학 점수를 입력해주세요!!!55\n",
      "영어 점수를 입력해주세요!!!75\n",
      "사회 점수를 입력해주세요!!!80\n",
      "4과목 평균 점수 :  72.5\n"
     ]
    }
   ],
   "source": [
    "k = input(\"한국어 점수를 입력해주세요!!!\")\n",
    "m = input(\"수학 점수를 입력해주세요!!!\")\n",
    "e = input(\"영어 점수를 입력해주세요!!!\")\n",
    "s = input(\"사회 점수를 입력해주세요!!!\")\n",
    "score = [int(k),int(m),int(e),int(s)]\n",
    "sum(score)\n",
    "mean = (sum(score)/len(score))\n",
    "print(\"4과목 평균 점수 : \" , mean)"
   ]
  },
  {
   "cell_type": "code",
   "execution_count": 22,
   "metadata": {},
   "outputs": [
    {
     "name": "stdout",
     "output_type": "stream",
     "text": [
      "홀짝을 판단하고자 하는 수를 입력하세요!!!41\n",
      "False, 홀수입니다.\n"
     ]
    }
   ],
   "source": [
    "n = input(\"홀짝을 판단하고자 하는 수를 입력하세요!!!\")\n",
    "num = int(n)\n",
    "if (num%2) == 0:\n",
    "    print(\"True, 짝수입니다.\")\n",
    "else:\n",
    "    print(\"False, 홀수입니다.\")"
   ]
  },
  {
   "cell_type": "code",
   "execution_count": 23,
   "metadata": {},
   "outputs": [
    {
     "name": "stdout",
     "output_type": "stream",
     "text": [
      "[1, 2, 'Hello', 3, 4, 5, 'Hi', 'Monday']\n"
     ]
    }
   ],
   "source": [
    "a = [1,2,3,4,5]\n",
    "a.insert(2,\"Hello\")\n",
    "a.insert(6,\"Hi\")\n",
    "a.append(\"Monday\")\n",
    "print(a)"
   ]
  },
  {
   "cell_type": "code",
   "execution_count": 24,
   "metadata": {},
   "outputs": [
    {
     "name": "stdout",
     "output_type": "stream",
     "text": [
      "False\n"
     ]
    }
   ],
   "source": [
    "if (10//2) == (210//3):\n",
    "    print(\"True\")\n",
    "else:\n",
    "    print(\"False\")"
   ]
  },
  {
   "cell_type": "code",
   "execution_count": 26,
   "metadata": {},
   "outputs": [
    {
     "name": "stdout",
     "output_type": "stream",
     "text": [
      "True\n"
     ]
    }
   ],
   "source": [
    "if (12345%4) == (54321%2):\n",
    "    print(\"True\")\n",
    "else:\n",
    "    print(\"False\")"
   ]
  },
  {
   "cell_type": "code",
   "execution_count": 58,
   "metadata": {},
   "outputs": [
    {
     "name": "stdout",
     "output_type": "stream",
     "text": [
      "[1, 2, 3, ['aa', 'bb', 'cc', ['hello', 'hi', 'hahaha']]]\n",
      "i\n"
     ]
    }
   ],
   "source": [
    "a = [1,2,3,['aa','bb','cc',['hello','hi','hahaha']]]\n",
    "print(a)\n",
    "print(a[3][3][1][1])"
   ]
  },
  {
   "cell_type": "code",
   "execution_count": 63,
   "metadata": {},
   "outputs": [
    {
     "name": "stdout",
     "output_type": "stream",
     "text": [
      "1) ['a', 'b', 'c', 'd', 'e', 'f', 'g', 'h', 'i', 'j', 'k', 1, 2, 3, 4, 5]\n",
      "2) ['a', 'b', 'c', 'd', 'e']\n",
      "3) ['d', 'e', 'f', 'g', 'h', 'i', 'j', 'k', 1, 2, 3, 4, 5]\n",
      "4) ['b', 'c', 'd', 'e', 'f']\n",
      "5) ['a', 'c', 'e', 'g', 'i', 'k', 2, 4]\n",
      "6) ['a', 'd', 'g', 'j']\n"
     ]
    }
   ],
   "source": [
    "a = [\"a\",\"b\",\"c\",\"d\",\"e\",\"f\",\"g\",\"h\",\"i\",\"j\",\"k\",1,2,3,4,5]\n",
    "print(\"1)\", a)\n",
    "print(\"2)\", a[0:5])\n",
    "print(\"3)\", a[3:len(a)])\n",
    "print(\"4)\", a[1:6])\n",
    "print(\"5)\", a[0:len(a):2])\n",
    "print(\"6)\", a[0:10:3])"
   ]
  },
  {
   "cell_type": "code",
   "execution_count": 45,
   "metadata": {},
   "outputs": [
    {
     "name": "stdout",
     "output_type": "stream",
     "text": [
      "80\n"
     ]
    }
   ],
   "source": [
    "a = {\"A\":90, \"B\":80, \"C\":70}\n",
    "print(a[\"B\"])"
   ]
  },
  {
   "cell_type": "code",
   "execution_count": 73,
   "metadata": {},
   "outputs": [
    {
     "name": "stdout",
     "output_type": "stream",
     "text": [
      "10\n",
      "85\n"
     ]
    }
   ],
   "source": [
    "a = {\"A\":30, \"B\":50, \"C\":10,\"D\":43, \"E\":85, \"F\":76,\"G\":32}\n",
    "print(min(a.values()))\n",
    "print(max(a.values()))"
   ]
  },
  {
   "cell_type": "code",
   "execution_count": 137,
   "metadata": {},
   "outputs": [
    {
     "name": "stdout",
     "output_type": "stream",
     "text": [
      "최고점 :  E\n",
      "최저점 :  C\n"
     ]
    }
   ],
   "source": [
    "a = {\"A\":30, \"B\":50, \"C\":10,\"D\":43, \"E\":85, \"F\":76,\"G\":32}\n",
    "print(\"최고점 : \",max(a.items(), key = lambda x:x[1])[0])\n",
    "print(\"최저점 : \",min(a.items(), key = lambda x:x[1])[0])"
   ]
  },
  {
   "cell_type": "code",
   "execution_count": 79,
   "metadata": {},
   "outputs": [
    {
     "name": "stdout",
     "output_type": "stream",
     "text": [
      "1\n",
      "2\n",
      "3\n",
      "4\n",
      "5\n",
      "6\n",
      "7\n",
      "8\n",
      "9\n",
      "10\n",
      "11\n",
      "12\n",
      "13\n",
      "14\n",
      "15\n",
      "16\n",
      "17\n",
      "18\n",
      "19\n",
      "20\n"
     ]
    }
   ],
   "source": [
    "for i in range(1,21):\n",
    "    print(i)"
   ]
  },
  {
   "cell_type": "code",
   "execution_count": 80,
   "metadata": {},
   "outputs": [
    {
     "name": "stdout",
     "output_type": "stream",
     "text": [
      "hello_ 1\n",
      "hello_ 2\n",
      "hello_ 3\n",
      "hello_ 4\n",
      "hello_ 5\n",
      "hello_ 6\n",
      "hello_ 7\n",
      "hello_ 8\n",
      "hello_ 9\n",
      "hello_ 10\n",
      "hello_ 11\n",
      "hello_ 12\n",
      "hello_ 13\n",
      "hello_ 14\n",
      "hello_ 15\n",
      "hello_ 16\n",
      "hello_ 17\n",
      "hello_ 18\n",
      "hello_ 19\n",
      "hello_ 20\n"
     ]
    }
   ],
   "source": [
    "for i in range(1,21):\n",
    "    print(\"hello_\",i)"
   ]
  },
  {
   "cell_type": "code",
   "execution_count": 45,
   "metadata": {},
   "outputs": [
    {
     "name": "stdout",
     "output_type": "stream",
     "text": [
      "['one1', 'two2', 'three3', 'four4']\n"
     ]
    }
   ],
   "source": [
    "a = [\"one\",\"two\",\"three\",\"four\"]\n",
    "b = []\n",
    "for i in range(0,len(a)):\n",
    "        b.append(a[i]+str(i+1))\n",
    "print(b)"
   ]
  },
  {
   "cell_type": "code",
   "execution_count": 77,
   "metadata": {},
   "outputs": [
    {
     "name": "stdout",
     "output_type": "stream",
     "text": [
      "['one1', 'two2', 'three3', 'four4']\n"
     ]
    }
   ],
   "source": [
    "a = [\"one\",\"two\",\"three\",\"four\"]\n",
    "b = []\n",
    "k = 1\n",
    "for i in a:\n",
    "        b.append(i+str(k))\n",
    "        k += 1\n",
    "print(b)"
   ]
  },
  {
   "cell_type": "code",
   "execution_count": 79,
   "metadata": {},
   "outputs": [
    {
     "name": "stdout",
     "output_type": "stream",
     "text": [
      "25.0\n",
      "23.25\n"
     ]
    }
   ],
   "source": [
    "a = [10,20,30,40]\n",
    "b = [50,20,10,13]\n",
    "\n",
    "a_sum = 0\n",
    "b_sum = 0\n",
    "for i in a:\n",
    "    a_sum += i\n",
    "for i in b:\n",
    "    b_sum += i\n",
    "a_mean = a_sum/len(a)\n",
    "b_mean = b_sum/len(b)\n",
    "\n",
    "print(a_mean)\n",
    "print(b_mean)"
   ]
  },
  {
   "cell_type": "code",
   "execution_count": 80,
   "metadata": {},
   "outputs": [
    {
     "name": "stdout",
     "output_type": "stream",
     "text": [
      "you too\n"
     ]
    }
   ],
   "source": [
    "a = [\"Life\", \"is\",\"too\", \"short\", \"you\",\"need\",\"python\"]\n",
    "print(a[4],a[2])"
   ]
  },
  {
   "cell_type": "code",
   "execution_count": 85,
   "metadata": {},
   "outputs": [
    {
     "name": "stdout",
     "output_type": "stream",
     "text": [
      "['Life', 'is', 'too', 'short']\n",
      "Life is too short "
     ]
    }
   ],
   "source": [
    "a = [\"Life\", \"is\", \"too\",\"short\"]\n",
    "print(a)\n",
    "for i in a:\n",
    "    print(i,end =' ')"
   ]
  },
  {
   "cell_type": "code",
   "execution_count": 86,
   "metadata": {},
   "outputs": [
    {
     "name": "stdout",
     "output_type": "stream",
     "text": [
      "Life is too short 1 2 3 4 5\n"
     ]
    }
   ],
   "source": [
    "a = [\"Life\", \"is\", \"too\",\"short\",\"1\",\"2\",\"3\",\"4\",\"5\"]\n",
    "result = \" \".join(a)\n",
    "print(result)"
   ]
  },
  {
   "cell_type": "code",
   "execution_count": 87,
   "metadata": {},
   "outputs": [
    {
     "name": "stdout",
     "output_type": "stream",
     "text": [
      "6\n"
     ]
    }
   ],
   "source": [
    "a = [1,2,3,4,5,6]\n",
    "print(len(a))"
   ]
  },
  {
   "cell_type": "code",
   "execution_count": 98,
   "metadata": {},
   "outputs": [
    {
     "name": "stdout",
     "output_type": "stream",
     "text": [
      "[1, 3, 5]\n"
     ]
    }
   ],
   "source": [
    "a = [1,2,3,4,5]\n",
    "a.remove(2)\n",
    "a.remove(4)\n",
    "print(a)"
   ]
  },
  {
   "cell_type": "code",
   "execution_count": 128,
   "metadata": {},
   "outputs": [
    {
     "name": "stdout",
     "output_type": "stream",
     "text": [
      "a는 양수다!!\n"
     ]
    }
   ],
   "source": [
    "a = 10\n",
    "if a>0:\n",
    "    print(\"a는 양수다!!\")\n",
    "elif a == 0:\n",
    "    print(\"a는 0이다!!\")\n",
    "else:\n",
    "    print(\"a는 음수다!!\")\n",
    "    pass"
   ]
  },
  {
   "cell_type": "code",
   "execution_count": 132,
   "metadata": {},
   "outputs": [
    {
     "name": "stdout",
     "output_type": "stream",
     "text": [
      "0,양수,음수 판단할 수를 입력해 주세요!!!!!-2\n",
      "a는 음수다!!\n"
     ]
    }
   ],
   "source": [
    "a = int(input(\"0,양수,음수 판단할 수를 입력해 주세요!!!!!\"))\n",
    "if a>0:\n",
    "    print(\"a는 양수다!!\")\n",
    "elif a == 0:\n",
    "    print(\"a는 0이다!!\")\n",
    "else:\n",
    "    print(\"a는 음수다!!\")\n",
    "    pass"
   ]
  },
  {
   "cell_type": "code",
   "execution_count": 142,
   "metadata": {},
   "outputs": [
    {
     "name": "stdout",
     "output_type": "stream",
     "text": [
      "홀짝을 판단하고자 하는 수를 입력하세요!!!-3\n",
      "이상해요!!!!\n"
     ]
    }
   ],
   "source": [
    "a = int(input(\"홀짝을 판단하고자 하는 수를 입력하세요!!!\"))\n",
    "if a%2 == 0 and a >= 0:\n",
    "    print(\"입력하신 수는 짝수입니다!!!!\")\n",
    "elif a%2 != 0 and a > 0:\n",
    "    print(\"입력하신 수는 홀수입니다!!!!\")\n",
    "else:\n",
    "    print(\"이상해요!!!!\")\n",
    "    pass"
   ]
  },
  {
   "cell_type": "code",
   "execution_count": 144,
   "metadata": {},
   "outputs": [
    {
     "name": "stdout",
     "output_type": "stream",
     "text": [
      "갈 수 있다!!!\n"
     ]
    }
   ],
   "source": [
    "money = 5000\n",
    "card = False\n",
    "\n",
    "if money >= 4000 or card == True:\n",
    "    print(\"갈 수 있다!!!\")\n",
    "else:\n",
    "    print(\"거긴 못 지나간다!!!\")\n",
    "    pass\n"
   ]
  },
  {
   "cell_type": "code",
   "execution_count": 154,
   "metadata": {},
   "outputs": [
    {
     "name": "stdout",
     "output_type": "stream",
     "text": [
      "자연수를 입력하세요!!!888\n",
      "세자리 修\n"
     ]
    }
   ],
   "source": [
    "a = input(\"자연수를 입력하세요!!!\")\n",
    "if int(a) <= 9999:\n",
    "    if len(a) == 1:\n",
    "        print(\"한자리 修\")\n",
    "    elif len(a) == 2:\n",
    "        print(\"두자리 修\")\n",
    "    elif len(a) == 3:\n",
    "        print(\"세자리 修\")\n",
    "    else:\n",
    "        print(\"네자리 修\")\n",
    "else:\n",
    "    print(\"허용범위 초과!!!\")"
   ]
  },
  {
   "cell_type": "code",
   "execution_count": 155,
   "metadata": {},
   "outputs": [
    {
     "name": "stdout",
     "output_type": "stream",
     "text": [
      "처음 입력20\n",
      "두번째 입력30\n",
      "변화된 a값: 30\n",
      "변화된 b값: 20\n"
     ]
    }
   ],
   "source": [
    "a = input(\"처음 입력\")\n",
    "b = input(\"두번째 입력\")\n",
    "\n",
    "temp = a\n",
    "a = b\n",
    "b = temp\n",
    "print(\"변화된 a값:\",a)\n",
    "print(\"변화된 b값:\",b)"
   ]
  },
  {
   "cell_type": "code",
   "execution_count": 157,
   "metadata": {},
   "outputs": [
    {
     "name": "stdout",
     "output_type": "stream",
     "text": [
      "입력하세요[kg]!!!1.2\n",
      "1200.0\n"
     ]
    }
   ],
   "source": [
    "kg = float(input(\"입력하세요[kg]!!!\"))\n",
    "g = kg * 1000\n",
    "print(g)"
   ]
  },
  {
   "cell_type": "code",
   "execution_count": 1,
   "metadata": {},
   "outputs": [
    {
     "name": "stdout",
     "output_type": "stream",
     "text": [
      "입력하세요[g]!!!1234\n",
      "1.234\n"
     ]
    }
   ],
   "source": [
    "g = float(input(\"입력하세요[g]!!!\"))\n",
    "kg = g * (1/1000)\n",
    "print(kg)"
   ]
  },
  {
   "cell_type": "code",
   "execution_count": 5,
   "metadata": {},
   "outputs": [
    {
     "name": "stdout",
     "output_type": "stream",
     "text": [
      "1번째 수-5\n",
      "2번째 수1\n",
      "3번째 수0\n",
      "1\n"
     ]
    }
   ],
   "source": [
    "a = int(input(\"1번째 수\"))\n",
    "b = int(input(\"2번째 수\"))\n",
    "c = int(input(\"3번째 수\"))\n",
    "max_num = 0\n",
    "\n",
    "if a >= b :\n",
    "    if a >= c:\n",
    "        max_num = a\n",
    "    else:\n",
    "        max_num = c\n",
    "elif a < b :\n",
    "    if b >= c:\n",
    "        max_num = b\n",
    "    else:\n",
    "        max_num = c\n",
    "else:\n",
    "    pass\n",
    "\n",
    "print(max_num)"
   ]
  },
  {
   "cell_type": "code",
   "execution_count": 8,
   "metadata": {},
   "outputs": [
    {
     "name": "stdout",
     "output_type": "stream",
     "text": [
      "5050\n"
     ]
    }
   ],
   "source": [
    "temp = 0\n",
    "for i in range(1,101):\n",
    "    temp += i\n",
    "print(temp)"
   ]
  },
  {
   "cell_type": "code",
   "execution_count": 9,
   "metadata": {},
   "outputs": [
    {
     "name": "stdout",
     "output_type": "stream",
     "text": [
      "93326215443944152681699238856266700490715968264381621468592963895217599993229915608941463976156518286253697920827223758251185210916864000000000000000000000000\n"
     ]
    }
   ],
   "source": [
    "temp = 1\n",
    "for i in range(1,101):\n",
    "    temp *= i\n",
    "print(temp)"
   ]
  },
  {
   "cell_type": "code",
   "execution_count": 26,
   "metadata": {},
   "outputs": [
    {
     "name": "stdout",
     "output_type": "stream",
     "text": [
      "1\n",
      "2\n",
      "5\n",
      "6\n",
      "7\n"
     ]
    }
   ],
   "source": [
    "score = [90,80,35,24,65,74,93]\n",
    "for i in range(len(score)):\n",
    "    if score[i] >= 60:\n",
    "        print(i+1)\n",
    "    else:\n",
    "        pass"
   ]
  },
  {
   "cell_type": "code",
   "execution_count": 33,
   "metadata": {},
   "outputs": [
    {
     "name": "stdout",
     "output_type": "stream",
     "text": [
      "{'A': 3, 'B': 2, 'O': 2, 'AB': 3}\n"
     ]
    }
   ],
   "source": [
    "b = [\"A\",\"B\",\"A\",\"O\",\"AB\",\"AB\",\"O\",\"A\",\"B\",\"AB\"]\n",
    "result = {}\n",
    "for p in b:\n",
    "    result[p] = b.count(p)\n",
    "        \n",
    "print(result)"
   ]
  },
  {
   "cell_type": "code",
   "execution_count": 37,
   "metadata": {},
   "outputs": [
    {
     "name": "stdout",
     "output_type": "stream",
     "text": [
      "3\n",
      "9\n",
      "15\n",
      "21\n",
      "27\n",
      "33\n"
     ]
    }
   ],
   "source": [
    "a = [1,2,3,4,5,6,7,8,9,10,11,12]\n",
    "for i in a:\n",
    "    if i%2 != 0:\n",
    "        print(i*3)"
   ]
  },
  {
   "cell_type": "code",
   "execution_count": 12,
   "metadata": {},
   "outputs": [
    {
     "name": "stdout",
     "output_type": "stream",
     "text": [
      "2 X 1 =  2\n",
      "2 X 2 =  4\n",
      "2 X 3 =  6\n",
      "2 X 4 =  8\n",
      "2 X 5 =  10\n",
      "2 X 6 =  12\n",
      "2 X 7 =  14\n",
      "2 X 8 =  16\n",
      "2 X 9 =  18\n",
      "3 X 1 =  3\n",
      "3 X 2 =  6\n",
      "3 X 3 =  9\n",
      "3 X 4 =  12\n",
      "3 X 5 =  15\n",
      "3 X 6 =  18\n",
      "3 X 7 =  21\n",
      "3 X 8 =  24\n",
      "3 X 9 =  27\n",
      "4 X 1 =  4\n",
      "4 X 2 =  8\n",
      "4 X 3 =  12\n",
      "4 X 4 =  16\n",
      "4 X 5 =  20\n",
      "4 X 6 =  24\n",
      "4 X 7 =  28\n",
      "4 X 8 =  32\n",
      "4 X 9 =  36\n",
      "5 X 1 =  5\n",
      "5 X 2 =  10\n",
      "5 X 3 =  15\n",
      "5 X 4 =  20\n",
      "5 X 5 =  25\n",
      "5 X 6 =  30\n",
      "5 X 7 =  35\n",
      "5 X 8 =  40\n",
      "5 X 9 =  45\n",
      "6 X 1 =  6\n",
      "6 X 2 =  12\n",
      "6 X 3 =  18\n",
      "6 X 4 =  24\n",
      "6 X 5 =  30\n",
      "6 X 6 =  36\n",
      "6 X 7 =  42\n",
      "6 X 8 =  48\n",
      "6 X 9 =  54\n",
      "7 X 1 =  7\n",
      "7 X 2 =  14\n",
      "7 X 3 =  21\n",
      "7 X 4 =  28\n",
      "7 X 5 =  35\n",
      "7 X 6 =  42\n",
      "7 X 7 =  49\n",
      "7 X 8 =  56\n",
      "7 X 9 =  63\n",
      "8 X 1 =  8\n",
      "8 X 2 =  16\n",
      "8 X 3 =  24\n",
      "8 X 4 =  32\n",
      "8 X 5 =  40\n",
      "8 X 6 =  48\n",
      "8 X 7 =  56\n",
      "8 X 8 =  64\n",
      "8 X 9 =  72\n",
      "9 X 1 =  9\n",
      "9 X 2 =  18\n",
      "9 X 3 =  27\n",
      "9 X 4 =  36\n",
      "9 X 5 =  45\n",
      "9 X 6 =  54\n",
      "9 X 7 =  63\n",
      "9 X 8 =  72\n",
      "9 X 9 =  81\n",
      "10 X 1 =  10\n",
      "10 X 2 =  20\n",
      "10 X 3 =  30\n",
      "10 X 4 =  40\n",
      "10 X 5 =  50\n",
      "10 X 6 =  60\n",
      "10 X 7 =  70\n",
      "10 X 8 =  80\n",
      "10 X 9 =  90\n",
      "11 X 1 =  11\n",
      "11 X 2 =  22\n",
      "11 X 3 =  33\n",
      "11 X 4 =  44\n",
      "11 X 5 =  55\n",
      "11 X 6 =  66\n",
      "11 X 7 =  77\n",
      "11 X 8 =  88\n",
      "11 X 9 =  99\n",
      "12 X 1 =  12\n",
      "12 X 2 =  24\n",
      "12 X 3 =  36\n",
      "12 X 4 =  48\n",
      "12 X 5 =  60\n",
      "12 X 6 =  72\n",
      "12 X 7 =  84\n",
      "12 X 8 =  96\n",
      "12 X 9 =  108\n",
      "13 X 1 =  13\n",
      "13 X 2 =  26\n",
      "13 X 3 =  39\n",
      "13 X 4 =  52\n",
      "13 X 5 =  65\n",
      "13 X 6 =  78\n",
      "13 X 7 =  91\n",
      "13 X 8 =  104\n",
      "13 X 9 =  117\n",
      "14 X 1 =  14\n",
      "14 X 2 =  28\n",
      "14 X 3 =  42\n",
      "14 X 4 =  56\n",
      "14 X 5 =  70\n",
      "14 X 6 =  84\n",
      "14 X 7 =  98\n",
      "14 X 8 =  112\n",
      "14 X 9 =  126\n",
      "15 X 1 =  15\n",
      "15 X 2 =  30\n",
      "15 X 3 =  45\n",
      "15 X 4 =  60\n",
      "15 X 5 =  75\n",
      "15 X 6 =  90\n",
      "15 X 7 =  105\n",
      "15 X 8 =  120\n",
      "15 X 9 =  135\n",
      "16 X 1 =  16\n",
      "16 X 2 =  32\n",
      "16 X 3 =  48\n",
      "16 X 4 =  64\n",
      "16 X 5 =  80\n",
      "16 X 6 =  96\n",
      "16 X 7 =  112\n",
      "16 X 8 =  128\n",
      "16 X 9 =  144\n",
      "17 X 1 =  17\n",
      "17 X 2 =  34\n",
      "17 X 3 =  51\n",
      "17 X 4 =  68\n",
      "17 X 5 =  85\n",
      "17 X 6 =  102\n",
      "17 X 7 =  119\n",
      "17 X 8 =  136\n",
      "17 X 9 =  153\n",
      "18 X 1 =  18\n",
      "18 X 2 =  36\n",
      "18 X 3 =  54\n",
      "18 X 4 =  72\n",
      "18 X 5 =  90\n",
      "18 X 6 =  108\n",
      "18 X 7 =  126\n",
      "18 X 8 =  144\n",
      "18 X 9 =  162\n",
      "19 X 1 =  19\n",
      "19 X 2 =  38\n",
      "19 X 3 =  57\n",
      "19 X 4 =  76\n",
      "19 X 5 =  95\n",
      "19 X 6 =  114\n",
      "19 X 7 =  133\n",
      "19 X 8 =  152\n",
      "19 X 9 =  171\n"
     ]
    }
   ],
   "source": [
    "for i in range(2,20):\n",
    "    for j in range(1,10):\n",
    "        print(\"%d X %d = \"%(i, j),i * j)"
   ]
  },
  {
   "cell_type": "code",
   "execution_count": 16,
   "metadata": {},
   "outputs": [
    {
     "name": "stdout",
     "output_type": "stream",
     "text": [
      "2\n",
      "3\n",
      "5\n",
      "7\n",
      "11\n",
      "13\n",
      "17\n",
      "19\n",
      "23\n",
      "29\n",
      "31\n",
      "37\n",
      "41\n",
      "43\n",
      "47\n",
      "53\n",
      "59\n",
      "61\n",
      "67\n",
      "71\n",
      "73\n",
      "79\n",
      "83\n",
      "89\n",
      "97\n"
     ]
    }
   ],
   "source": [
    "for i in range(2,101):\n",
    "    check = True\n",
    "    for j in range(2,i):\n",
    "        if i%j == 0:\n",
    "            check = False\n",
    "            break\n",
    "    if check:\n",
    "        print(i)"
   ]
  },
  {
   "cell_type": "code",
   "execution_count": 40,
   "metadata": {
    "scrolled": false
   },
   "outputs": [
    {
     "name": "stdout",
     "output_type": "stream",
     "text": [
      "1\n",
      "2\n",
      "3\n",
      "6\n",
      "최대공약수 :  6\n"
     ]
    }
   ],
   "source": [
    "a = 54\n",
    "b = 24\n",
    "gcm = 1\n",
    "for i in range(1, min(a, b)+1):\n",
    "    if (a % i == 0) and (b % i == 0):\n",
    "        print(i)\n",
    "        a = a//i\n",
    "        b = b//i\n",
    "        gcm = gcm * i\n",
    "print(gcm)\n",
    "print(\"최대공약수 : \",gcm)\n"
   ]
  },
  {
   "cell_type": "code",
   "execution_count": 41,
   "metadata": {},
   "outputs": [
    {
     "name": "stdout",
     "output_type": "stream",
     "text": [
      "@@@@@\n"
     ]
    }
   ],
   "source": [
    "print(\"@\"+\"@\"+\"@\"+\"@\"+\"@\")"
   ]
  },
  {
   "cell_type": "code",
   "execution_count": 42,
   "metadata": {},
   "outputs": [
    {
     "name": "stdout",
     "output_type": "stream",
     "text": [
      "@@@@@\n"
     ]
    }
   ],
   "source": [
    "print(\"@\"*5)"
   ]
  },
  {
   "cell_type": "code",
   "execution_count": 43,
   "metadata": {},
   "outputs": [
    {
     "name": "stdout",
     "output_type": "stream",
     "text": [
      "*****"
     ]
    }
   ],
   "source": [
    "for i in range(5):\n",
    "    print(\"*\",end=\"\")"
   ]
  },
  {
   "cell_type": "code",
   "execution_count": 44,
   "metadata": {},
   "outputs": [
    {
     "name": "stdout",
     "output_type": "stream",
     "text": [
      "@@@@@"
     ]
    }
   ],
   "source": [
    "for i in range(5):\n",
    "    print(\"@\", end=\"\")"
   ]
  },
  {
   "cell_type": "code",
   "execution_count": 45,
   "metadata": {},
   "outputs": [
    {
     "name": "stdout",
     "output_type": "stream",
     "text": [
      "반복할 수를 입력하세요!!!!5\n",
      "@@@@@"
     ]
    }
   ],
   "source": [
    "num = int(input(\"반복할 수를 입력하세요!!!!\"))\n",
    "\n",
    "for i in range(num):\n",
    "    print(\"@\", end=\"\")"
   ]
  },
  {
   "cell_type": "code",
   "execution_count": 72,
   "metadata": {},
   "outputs": [
    {
     "name": "stdout",
     "output_type": "stream",
     "text": [
      "@@@@@\n",
      "@@@@@\n",
      "@@@@@\n",
      "@@@@@\n"
     ]
    }
   ],
   "source": [
    "for i in range(4):\n",
    "    for j in range(5):\n",
    "        print(\"@\", end=\"\")\n",
    "    print()"
   ]
  },
  {
   "cell_type": "code",
   "execution_count": 73,
   "metadata": {},
   "outputs": [
    {
     "name": "stdout",
     "output_type": "stream",
     "text": [
      "@@@@@\n",
      "@@@@@\n",
      "@@@@@\n",
      "@@@@@\n",
      "@@@@@\n"
     ]
    }
   ],
   "source": [
    "for i in range(5):\n",
    "    for j in range(5):\n",
    "        print(\"@\", end=\"\")\n",
    "    print()"
   ]
  },
  {
   "cell_type": "code",
   "execution_count": 80,
   "metadata": {},
   "outputs": [
    {
     "name": "stdout",
     "output_type": "stream",
     "text": [
      "@\n",
      "@@\n",
      "@@@\n",
      "@@@@\n",
      "@@@@@\n"
     ]
    }
   ],
   "source": [
    "for i in range(1, 6):\n",
    "    print(\"@\"*i)"
   ]
  },
  {
   "cell_type": "code",
   "execution_count": 82,
   "metadata": {},
   "outputs": [
    {
     "name": "stdout",
     "output_type": "stream",
     "text": [
      "@@@@@\n",
      " @@@@\n",
      "  @@@\n",
      "   @@\n",
      "    @\n"
     ]
    }
   ],
   "source": [
    "for i in range(5):\n",
    "    for j in range(5):\n",
    "        if i > j:\n",
    "            print(\" \", end=\"\")\n",
    "        else:\n",
    "            print(\"@\", end=\"\")\n",
    "    print()"
   ]
  },
  {
   "cell_type": "code",
   "execution_count": 93,
   "metadata": {},
   "outputs": [
    {
     "name": "stdout",
     "output_type": "stream",
     "text": [
      "    @\n",
      "   @@@\n",
      "  @@@@@\n",
      " @@@@@@@\n",
      "@@@@@@@@@\n"
     ]
    }
   ],
   "source": [
    " for i in range(5):\n",
    "        for j in range(4-i):\n",
    "                print(' ', end='')\n",
    "        for j in range(2*(i+1)-1):\n",
    "                print('@', end='')\n",
    "        print(\"\")"
   ]
  },
  {
   "cell_type": "code",
   "execution_count": 94,
   "metadata": {},
   "outputs": [
    {
     "name": "stdout",
     "output_type": "stream",
     "text": [
      "@@@@@@@@@\n",
      " @@@@@@@\n",
      "  @@@@@\n",
      "   @@@\n",
      "    @\n"
     ]
    }
   ],
   "source": [
    "for i in range(5):\n",
    "        for j in range(i):\n",
    "                print(' ', end='')\n",
    "        for j in range(2*(5-i)-1):\n",
    "                print('@', end='')\n",
    "        print(\"\")"
   ]
  },
  {
   "cell_type": "code",
   "execution_count": 8,
   "metadata": {},
   "outputs": [
    {
     "name": "stdout",
     "output_type": "stream",
     "text": [
      "1\n",
      "22\n",
      "333\n",
      "4444\n",
      "55555\n",
      "666666\n",
      "7777777\n",
      "88888888\n",
      "999999999\n"
     ]
    }
   ],
   "source": [
    "for i in range(1,10):\n",
    "    for j in range(i):\n",
    "        print(i, end =\"\")\n",
    "    print()"
   ]
  },
  {
   "cell_type": "code",
   "execution_count": 2,
   "metadata": {},
   "outputs": [
    {
     "name": "stdout",
     "output_type": "stream",
     "text": [
      "1\n",
      "2\n",
      "three\n",
      "4\n",
      "five\n",
      "three\n",
      "7\n",
      "8\n",
      "three\n",
      "five\n",
      "11\n",
      "three\n",
      "13\n",
      "14\n",
      "three-five\n",
      "16\n",
      "17\n",
      "three\n",
      "19\n",
      "five\n",
      "three\n",
      "22\n",
      "23\n",
      "three\n",
      "five\n",
      "26\n",
      "three\n",
      "28\n",
      "29\n",
      "three-five\n",
      "31\n",
      "32\n",
      "three\n",
      "34\n",
      "five\n",
      "three\n",
      "37\n",
      "38\n",
      "three\n",
      "five\n",
      "41\n",
      "three\n",
      "43\n",
      "44\n",
      "three-five\n",
      "46\n",
      "47\n",
      "three\n",
      "49\n",
      "five\n"
     ]
    }
   ],
   "source": [
    "for i in range(1,51):\n",
    "    if (i%3) == 0 and (i%5) != 0:\n",
    "        print(\"three\")\n",
    "    elif (i%3) != 0 and (i%5) == 0:\n",
    "        print(\"five\")\n",
    "    elif (i%3) == 0 and (i%5) == 0:\n",
    "        print(\"three-five\")\n",
    "    else:\n",
    "        print(i)\n",
    "        pass"
   ]
  },
  {
   "cell_type": "code",
   "execution_count": 4,
   "metadata": {},
   "outputs": [
    {
     "name": "stdout",
     "output_type": "stream",
     "text": [
      "월 입력 : 9\n",
      "일 입력 : 23\n",
      "9월 23일 --> 가을\n"
     ]
    }
   ],
   "source": [
    "m = int(input(\"월 입력 : \"))\n",
    "d = int(input(\"일 입력 : \"))\n",
    "\n",
    "if m == 3 or m == 4 or m == 5:\n",
    "    print(\"%d월 %d일 --> 봄\" %(m, d))\n",
    "elif m == 6 or m == 7 or m == 8:\n",
    "    print(\"%d월 %d일 --> 여름\" %(m, d))\n",
    "elif m == 9 or m == 10 or m == 11:\n",
    "    print(\"%d월 %d일 --> 가을\" %(m, d))\n",
    "else:\n",
    "    print(\"%d월 %d일 --> 겨울\" %(m, d))\n",
    "    pass"
   ]
  },
  {
   "cell_type": "code",
   "execution_count": 21,
   "metadata": {},
   "outputs": [
    {
     "name": "stdout",
     "output_type": "stream",
     "text": [
      "점수를 입력하세요. : 90\n",
      "A \"참 잘했습니다.\"\n"
     ]
    }
   ],
   "source": [
    "score = int(input(\"점수를 입력하세요. : \"))\n",
    "\n",
    "if score < 0 or score > 100:\n",
    "    print(\"점수를 다시 확인해주세요.\")\n",
    "elif score >= 90:\n",
    "    print('A \"참 잘했습니다.\"')\n",
    "elif score >= 80:\n",
    "    print('B \"잘했습니다.\"')\n",
    "elif score >= 60:\n",
    "    print('C \"좀 더 노력하세요.\"')\n",
    "elif score >= 40:\n",
    "    print('D \"재수강을 권장합니다.\"')\n",
    "elif score < 40:\n",
    "    print('F \"꼭 다시 들으세요!!\"')\n",
    "else:\n",
    "    pass"
   ]
  },
  {
   "cell_type": "code",
   "execution_count": 26,
   "metadata": {},
   "outputs": [
    {
     "name": "stdout",
     "output_type": "stream",
     "text": [
      "x의 값을 입력하세요75\n",
      "y의 값을 입력하세요59\n",
      "안에 있습니다.\n"
     ]
    }
   ],
   "source": [
    "x = int(input(\"x의 값을 입력하세요\"))\n",
    "y = int(input(\"y의 값을 입력하세요\"))\n",
    "\n",
    "if x >= 50 and x <= 100 and y >= 40 and y <= 80:\n",
    "    print(\"안에 있습니다.\")\n",
    "else:\n",
    "    print(\"밖에 있습니다.\")\n",
    "    "
   ]
  },
  {
   "cell_type": "code",
   "execution_count": 27,
   "metadata": {},
   "outputs": [
    {
     "name": "stdout",
     "output_type": "stream",
     "text": [
      "입력하세요!!!12345\n",
      "15\n"
     ]
    }
   ],
   "source": [
    "number = int(input(\"입력하세요!!!\"))\n",
    "\n",
    "def sum_dig(number):\n",
    "    num = str(number)\n",
    "    return sum(map(int, num))\n",
    "\n",
    "print(sum_dig(number))"
   ]
  },
  {
   "cell_type": "code",
   "execution_count": 28,
   "metadata": {},
   "outputs": [
    {
     "name": "stdout",
     "output_type": "stream",
     "text": [
      "833\n"
     ]
    }
   ],
   "source": [
    "count1 = 0\n",
    "count2 = 0\n",
    "count3 = 0\n",
    "for i in range(1,99) :\n",
    "    for j in range(1,(100-i)) :\n",
    "        a = i\n",
    "        b = j\n",
    "        c = 100 - (i+j)\n",
    "        if (a != b) and (a != c) and (b != c) :\n",
    "            count1 += 1\n",
    "        elif (a == b) and (a != c) :\n",
    "            count2 += 1\n",
    "        elif (a == c) and (a != b) :\n",
    "            count2 += 1\n",
    "        elif (b == c) and (b != a) :\n",
    "            count2 +=1\n",
    "        else :\n",
    "            count3 += 1\n",
    "count = int(count1/6) + int(count2/3) + count3\n",
    "print(count)"
   ]
  },
  {
   "cell_type": "code",
   "execution_count": 37,
   "metadata": {},
   "outputs": [
    {
     "name": "stdout",
     "output_type": "stream",
     "text": [
      "0 : 11\n",
      "1 : 21\n",
      "2 : 20\n",
      "3 : 20\n",
      "4 : 20\n",
      "5 : 20\n",
      "6 : 20\n",
      "7 : 20\n",
      "8 : 20\n",
      "9 : 20\n"
     ]
    }
   ],
   "source": [
    "a = list(range(1,101))\n",
    "a = str(a)\n",
    "zero = 0\n",
    "one = 0\n",
    "two = 0\n",
    "three = 0\n",
    "four = 0\n",
    "five = 0\n",
    "six = 0\n",
    "seven = 0\n",
    "eight = 0\n",
    "nine = 0\n",
    "\n",
    "for i in range(0,len(a)) :\n",
    "    if '0' in a[i] :\n",
    "        zero += 1\n",
    "    elif '1' in a[i] :\n",
    "        one += 1\n",
    "    elif '2' in a[i] :\n",
    "        two += 1\n",
    "    elif '3' in a[i] :\n",
    "        three += 1\n",
    "    elif '4' in a[i] :\n",
    "        four += 1\n",
    "    elif '5' in a[i] :\n",
    "        five += 1\n",
    "    elif '6' in a[i] :\n",
    "        six += 1\n",
    "    elif '7' in a[i] :\n",
    "        seven += 1\n",
    "    elif '8' in a[i] :\n",
    "        eight += 1\n",
    "    elif '9' in a[i] :\n",
    "        nine += 1\n",
    "    \n",
    "print(\"0 : \" + str(zero))\n",
    "print(\"1 : \" + str(one))\n",
    "print(\"2 : \" + str(two))\n",
    "print(\"3 : \" + str(three))\n",
    "print(\"4 : \" + str(four))\n",
    "print(\"5 : \" + str(five))\n",
    "print(\"6 : \" + str(six))\n",
    "print(\"7 : \" + str(seven))\n",
    "print(\"8 : \" + str(eight))\n",
    "print(\"9 : \" + str(nine))"
   ]
  },
  {
   "cell_type": "code",
   "execution_count": 38,
   "metadata": {},
   "outputs": [],
   "source": [
    "a = [20,55,67,82,45,33,90,87,100,25]"
   ]
  },
  {
   "cell_type": "code",
   "execution_count": 39,
   "metadata": {},
   "outputs": [
    {
     "name": "stdout",
     "output_type": "stream",
     "text": [
      "481\n"
     ]
    }
   ],
   "source": [
    "# for/range 사용\n",
    "sum = 0\n",
    "for i in range(0,len(a)):\n",
    "    if a[i] >= 50:\n",
    "        sum += a[i]\n",
    "print(sum)"
   ]
  },
  {
   "cell_type": "code",
   "execution_count": 40,
   "metadata": {},
   "outputs": [
    {
     "name": "stdout",
     "output_type": "stream",
     "text": [
      "481\n"
     ]
    }
   ],
   "source": [
    "# for/직접 값 사용\n",
    "sum2 = 0\n",
    "for i in a:\n",
    "    if i >= 50:\n",
    "        sum2 += i\n",
    "print(sum)"
   ]
  },
  {
   "cell_type": "code",
   "execution_count": 41,
   "metadata": {},
   "outputs": [
    {
     "name": "stdout",
     "output_type": "stream",
     "text": [
      "481\n"
     ]
    }
   ],
   "source": [
    "# while 사용\n",
    "sum3 = 0\n",
    "i = 0\n",
    "while i < len(a):\n",
    "    if a[i] >= 50:\n",
    "        sum3 += a[i]\n",
    "    i += 1\n",
    "print(sum3)"
   ]
  },
  {
   "cell_type": "code",
   "execution_count": 42,
   "metadata": {},
   "outputs": [
    {
     "name": "stdout",
     "output_type": "stream",
     "text": [
      "1683\n"
     ]
    }
   ],
   "source": [
    "a = list(range(1,101))\n",
    "forsum = 0\n",
    "for i in a:\n",
    "    if i % 3 == 0:\n",
    "        forsum += i\n",
    "print(forsum)"
   ]
  },
  {
   "cell_type": "code",
   "execution_count": 43,
   "metadata": {},
   "outputs": [
    {
     "name": "stdout",
     "output_type": "stream",
     "text": [
      "1683\n"
     ]
    }
   ],
   "source": [
    "whilesum = 0\n",
    "i = 0\n",
    "while i < len(a):\n",
    "    if a[i] % 3 == 0:\n",
    "        whilesum += a[i]\n",
    "    i += 1\n",
    "print(whilesum)"
   ]
  },
  {
   "cell_type": "code",
   "execution_count": null,
   "metadata": {},
   "outputs": [],
   "source": [
    "from random import randint\n"
   ]
  },
  {
   "cell_type": "code",
   "execution_count": null,
   "metadata": {},
   "outputs": [],
   "source": [
    "import random\n"
   ]
  },
  {
   "cell_type": "code",
   "execution_count": 45,
   "metadata": {},
   "outputs": [
    {
     "name": "stdout",
     "output_type": "stream",
     "text": [
      "입력하세요!!!10\n",
      "2640\n"
     ]
    }
   ],
   "source": [
    "num = int(input(\"입력하세요!!!\"))\n",
    "sumsq = 0\n",
    "sqsum = 0\n",
    "for i in range(1, num+1):\n",
    "    sumsq += i\n",
    "    sqsum += i**2\n",
    "print(sumsq**2 - sqsum)"
   ]
  },
  {
   "cell_type": "code",
   "execution_count": 63,
   "metadata": {},
   "outputs": [],
   "source": [
    "def encryfunc(phone):\n",
    "    phone = phone.replace(phone[:-4], \"*\"*(len(phone)-4))\n",
    "    return phone"
   ]
  },
  {
   "cell_type": "code",
   "execution_count": 64,
   "metadata": {},
   "outputs": [
    {
     "data": {
      "text/plain": [
       "'*********5678'"
      ]
     },
     "execution_count": 64,
     "metadata": {},
     "output_type": "execute_result"
    }
   ],
   "source": [
    "encryfunc(\"010-1234-5678\")"
   ]
  },
  {
   "cell_type": "code",
   "execution_count": 65,
   "metadata": {},
   "outputs": [
    {
     "data": {
      "text/plain": [
       "'*******5678'"
      ]
     },
     "execution_count": 65,
     "metadata": {},
     "output_type": "execute_result"
    }
   ],
   "source": [
    "encryfunc(\"01034565678\")"
   ]
  },
  {
   "cell_type": "code",
   "execution_count": 66,
   "metadata": {},
   "outputs": [],
   "source": [
    "def computepay(a,b):\n",
    "    sal = (a - 160)*(10000*(1+(b/100)))+1600000\n",
    "    return sal"
   ]
  },
  {
   "cell_type": "code",
   "execution_count": 67,
   "metadata": {},
   "outputs": [
    {
     "name": "stdout",
     "output_type": "stream",
     "text": [
      "2240000.0\n"
     ]
    }
   ],
   "source": [
    "tom = computepay(200, 60)\n",
    "print(tom)"
   ]
  }
 ],
 "metadata": {
  "kernelspec": {
   "display_name": "Python 3",
   "language": "python",
   "name": "python3"
  },
  "language_info": {
   "codemirror_mode": {
    "name": "ipython",
    "version": 3
   },
   "file_extension": ".py",
   "mimetype": "text/x-python",
   "name": "python",
   "nbconvert_exporter": "python",
   "pygments_lexer": "ipython3",
   "version": "3.7.4"
  }
 },
 "nbformat": 4,
 "nbformat_minor": 2
}
