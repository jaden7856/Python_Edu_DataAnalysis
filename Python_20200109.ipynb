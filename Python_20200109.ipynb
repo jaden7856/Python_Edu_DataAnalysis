{
 "cells": [
  {
   "cell_type": "code",
   "execution_count": 39,
   "metadata": {},
   "outputs": [
    {
     "name": "stdout",
     "output_type": "stream",
     "text": [
      "['a', 'b', 'd', 'e', 'f', 'i']\n",
      "['a', 'b', 'c', 'd', 'e', 'f', 'c', 'i']\n"
     ]
    }
   ],
   "source": [
    "a = [\"a\",\"b\",\"c\",\"d\",\"e\",\"f\",\"c\",\"i\"]\n",
    "b = []\n",
    "\n",
    "for i in range(0,len(a)):\n",
    "    if a[i] != \"c\":\n",
    "        b.append(a[i])\n",
    "print(b)\n",
    "print(a)"
   ]
  },
  {
   "cell_type": "code",
   "execution_count": 81,
   "metadata": {},
   "outputs": [
    {
     "name": "stdout",
     "output_type": "stream",
     "text": [
      "['a', 'b', 'd', 'e', 'f', 'i']\n",
      "[['a', 'b', 'c', 'd'], 'e', 'c', 'f', ['c', 'i']]\n"
     ]
    }
   ],
   "source": [
    "a = [[\"a\",\"b\",\"c\",\"d\"],\"e\",\"c\",\"f\",[\"c\",\"i\"]]\n",
    "b = []\n",
    "\n",
    "for i in range(0,len(a)):\n",
    "    for j in range(0,len(a[i])):\n",
    "        if a[i][j] != \"c\":\n",
    "            b.append(a[i][j])\n",
    "        else:\n",
    "            pass\n",
    "print(b)\n",
    "print(a)"
   ]
  },
  {
   "cell_type": "code",
   "execution_count": 82,
   "metadata": {},
   "outputs": [
    {
     "name": "stdout",
     "output_type": "stream",
     "text": [
      "['a', 'b', 'd', 'e', 'f', 'i']\n",
      "[['a', 'b', 'c', 'd'], 'e', 'c', 'f', ['c', 'i']]\n"
     ]
    }
   ],
   "source": [
    "a = [[\"a\",\"b\",\"c\",\"d\"],\"e\",\"c\",\"f\",[\"c\",\"i\"]]\n",
    "b = []\n",
    "\n",
    "for i in a:\n",
    "    for j in i:\n",
    "        if j != \"c\":\n",
    "            b.append(j)\n",
    "        else:\n",
    "            pass\n",
    "print(b)\n",
    "print(a)"
   ]
  },
  {
   "cell_type": "code",
   "execution_count": 89,
   "metadata": {},
   "outputs": [
    {
     "name": "stdout",
     "output_type": "stream",
     "text": [
      "21\n",
      "550\n"
     ]
    }
   ],
   "source": [
    "def sumrandom(*args):\n",
    "    result = 0\n",
    "    for i in args:\n",
    "        result = result + i\n",
    "    return result\n",
    "\n",
    "print (sumrandom(1,2,3,4,5,6))\n",
    "print (sumrandom(10,20,30,40,50,60,70,80,90,100))"
   ]
  },
  {
   "cell_type": "code",
   "execution_count": 97,
   "metadata": {},
   "outputs": [
    {
     "name": "stdout",
     "output_type": "stream",
     "text": [
      "150\n",
      "5\n",
      "No func!\n"
     ]
    }
   ],
   "source": [
    "def myfunction(func, *args):\n",
    "    result = 0\n",
    "    if func == \"sum\":\n",
    "        for i in args:\n",
    "            result = result + i\n",
    "        return result\n",
    "    elif func == \"count\":\n",
    "        for i in args:\n",
    "            result = len(args)\n",
    "        return result\n",
    "    else:\n",
    "        result = \"No func!\"\n",
    "        return result\n",
    "    \n",
    "a = myfunction(\"sum\",10,20,30,40,50)\n",
    "b = myfunction(\"count\",10,20,30,40,50)\n",
    "c = myfunction(\"nono\",10,20,30,40,50)\n",
    "print(a)\n",
    "print(b)\n",
    "print(c)\n"
   ]
  },
  {
   "cell_type": "code",
   "execution_count": 98,
   "metadata": {},
   "outputs": [
    {
     "data": {
      "text/plain": [
       "40"
      ]
     },
     "execution_count": 98,
     "metadata": {},
     "output_type": "execute_result"
    }
   ],
   "source": [
    "(lambda x, y : x+y)(10,30)"
   ]
  },
  {
   "cell_type": "code",
   "execution_count": 109,
   "metadata": {},
   "outputs": [
    {
     "name": "stdout",
     "output_type": "stream",
     "text": [
      "(15, 120)\n",
      "(1, 4)\n",
      "Check sel parameter!!!\n"
     ]
    }
   ],
   "source": [
    "def myfunc(func, *args):\n",
    "    if func == \"sel1\":\n",
    "        result1 = 0\n",
    "        result2 = 1\n",
    "        for i in args:\n",
    "            result1 = result1 + i\n",
    "            result2 = result2 * i\n",
    "        return (result1,result2)\n",
    "    elif func == \"sel2\":\n",
    "        result = len(args)\n",
    "        return (args[0], args[result-1])\n",
    "    else:\n",
    "        return \"Check sel parameter!!!\"\n",
    "\n",
    "print (myfunc(\"sel1\", 1,2,3,4,5))\n",
    "print (myfunc(\"sel2\", 1,2,3,4))\n",
    "print (myfunc(\"sel\", 1,2,3,4,5))"
   ]
  },
  {
   "cell_type": "code",
   "execution_count": null,
   "metadata": {},
   "outputs": [],
   "source": []
  },
  {
   "cell_type": "code",
   "execution_count": null,
   "metadata": {},
   "outputs": [],
   "source": []
  },
  {
   "cell_type": "code",
   "execution_count": null,
   "metadata": {},
   "outputs": [],
   "source": []
  },
  {
   "cell_type": "code",
   "execution_count": null,
   "metadata": {},
   "outputs": [],
   "source": []
  },
  {
   "cell_type": "code",
   "execution_count": null,
   "metadata": {},
   "outputs": [],
   "source": []
  },
  {
   "cell_type": "code",
   "execution_count": null,
   "metadata": {},
   "outputs": [],
   "source": []
  },
  {
   "cell_type": "code",
   "execution_count": null,
   "metadata": {},
   "outputs": [],
   "source": []
  },
  {
   "cell_type": "code",
   "execution_count": null,
   "metadata": {},
   "outputs": [],
   "source": []
  },
  {
   "cell_type": "code",
   "execution_count": null,
   "metadata": {},
   "outputs": [],
   "source": []
  },
  {
   "cell_type": "code",
   "execution_count": null,
   "metadata": {},
   "outputs": [],
   "source": []
  },
  {
   "cell_type": "code",
   "execution_count": null,
   "metadata": {},
   "outputs": [],
   "source": []
  }
 ],
 "metadata": {
  "kernelspec": {
   "display_name": "Python 3",
   "language": "python",
   "name": "python3"
  },
  "language_info": {
   "codemirror_mode": {
    "name": "ipython",
    "version": 3
   },
   "file_extension": ".py",
   "mimetype": "text/x-python",
   "name": "python",
   "nbconvert_exporter": "python",
   "pygments_lexer": "ipython3",
   "version": "3.7.4"
  }
 },
 "nbformat": 4,
 "nbformat_minor": 2
}
