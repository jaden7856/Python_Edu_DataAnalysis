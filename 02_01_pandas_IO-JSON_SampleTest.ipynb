{
 "cells": [
  {
   "cell_type": "markdown",
   "metadata": {},
   "source": [
    "# Pandas : Part2 - IO"
   ]
  },
  {
   "cell_type": "markdown",
   "metadata": {},
   "source": [
    "* 참조) pandas 앞의 내용을 참조하여, 패키지 불러들이는 부분 설정"
   ]
  },
  {
   "cell_type": "markdown",
   "metadata": {},
   "source": [
    "[ JSON ]"
   ]
  },
  {
   "cell_type": "markdown",
   "metadata": {},
   "source": [
    "* 실질적으로 json을 만들어서 사용할 일은 없지만, 어떻게 생성된 것이며, 어떻게 원하는 정보를 찾을지 연습을 하기 위한 부분"
   ]
  },
  {
   "cell_type": "markdown",
   "metadata": {},
   "source": [
    "* 먼저 json 을 손쉽게 사용하기 위한 패키지 : json"
   ]
  },
  {
   "cell_type": "code",
   "execution_count": 43,
   "metadata": {
    "collapsed": true
   },
   "outputs": [],
   "source": [
    "########## JSON ######\n",
    "#00)  JSON Init / Packages import\n",
    "import pandas as pd\n",
    "import json"
   ]
  },
  {
   "cell_type": "markdown",
   "metadata": {},
   "source": [
    "* 연습1)"
   ]
  },
  {
   "cell_type": "code",
   "execution_count": 45,
   "metadata": {},
   "outputs": [
    {
     "name": "stdout",
     "output_type": "stream",
     "text": [
      "{u'color': u'red', u'value': u'#f00'}\n"
     ]
    }
   ],
   "source": [
    "#01) json 만들기\n",
    "json_data1 = \"\"\"{\n",
    "    \"color\": \"red\",\n",
    "    \"value\": \"#f00\"\n",
    "}\"\"\"\n",
    "\n",
    "result = json.loads(json_data1)\n",
    "print result"
   ]
  },
  {
   "cell_type": "markdown",
   "metadata": {},
   "source": [
    "* 잘 보면 우리가 아는 Dict 구조로 되어 있어서, 인덱스를 이용해서 원하는 값을 가져올 수 있음!!!\n",
    "\n",
    "* Q) 해당 데이터의 color의 값, value값을 확인하기!"
   ]
  },
  {
   "cell_type": "code",
   "execution_count": 46,
   "metadata": {},
   "outputs": [
    {
     "name": "stdout",
     "output_type": "stream",
     "text": [
      "red\n",
      "#f00\n"
     ]
    }
   ],
   "source": []
  },
  {
   "cell_type": "markdown",
   "metadata": {},
   "source": [
    "* 연습2)"
   ]
  },
  {
   "cell_type": "code",
   "execution_count": 48,
   "metadata": {},
   "outputs": [
    {
     "name": "stdout",
     "output_type": "stream",
     "text": [
      "{u'topping': [{u'type': u'None', u'id': u'5001'}, {u'type': u'Glazed', u'id': u'5002'}, {u'type': u'Sugar', u'id': u'5005'}, {u'type': u'Powdered Sugar', u'id': u'5007'}, {u'type': u'Chocolate with Sprinkles', u'id': u'5006'}, {u'type': u'Chocolate', u'id': u'5003'}, {u'type': u'Maple', u'id': u'5004'}], u'name': u'Cake', u'batters': {u'batter': [{u'type': u'Regular', u'id': u'1001'}, {u'type': u'Chocolate', u'id': u'1002'}, {u'type': u'Blueberry', u'id': u'1003'}, {u'type': u\"Devil's Food\", u'id': u'1004'}]}, u'ppu': 0.55, u'type': u'donut', u'id': u'0001'}\n"
     ]
    }
   ],
   "source": [
    "# 02) json data 2\n",
    "json_data2 = \"\"\"{\n",
    "    \"id\": \"0001\",\n",
    "    \"type\": \"donut\",\n",
    "    \"name\": \"Cake\",\n",
    "    \"ppu\": 0.55,\n",
    "    \"batters\":{\n",
    "            \"batter\": [\n",
    "                            { \"id\": \"1001\", \"type\": \"Regular\" },\n",
    "                            { \"id\": \"1002\", \"type\": \"Chocolate\" },\n",
    "                            { \"id\": \"1003\", \"type\": \"Blueberry\" },\n",
    "                            { \"id\": \"1004\", \"type\": \"Devil's Food\" }\n",
    "                            ]\n",
    "                        },\n",
    "    \"topping\":\n",
    "        [\n",
    "            { \"id\": \"5001\", \"type\": \"None\" },\n",
    "            { \"id\": \"5002\", \"type\": \"Glazed\" },\n",
    "            { \"id\": \"5005\", \"type\": \"Sugar\" },\n",
    "            { \"id\": \"5007\", \"type\": \"Powdered Sugar\" },\n",
    "            { \"id\": \"5006\", \"type\": \"Chocolate with Sprinkles\" },\n",
    "            { \"id\": \"5003\", \"type\": \"Chocolate\" },\n",
    "            { \"id\": \"5004\", \"type\": \"Maple\" }\n",
    "]\n",
    "}\"\"\"\n",
    "result = json.loads(json_data2)\n",
    "print result"
   ]
  },
  {
   "cell_type": "markdown",
   "metadata": {},
   "source": [
    "* Q) result[“batter”]은 왜 에러가 발생할까? 접근하기 위해서는 어떻게 해야하나?"
   ]
  },
  {
   "cell_type": "markdown",
   "metadata": {},
   "source": [
    "* Q) 앞의 데이터에서 batter 2번째 id의 값을 출력하라 / 2번째 topping의 데이터를 출력하라"
   ]
  },
  {
   "cell_type": "code",
   "execution_count": null,
   "metadata": {
    "collapsed": true
   },
   "outputs": [],
   "source": [
    "###############"
   ]
  }
 ],
 "metadata": {
  "kernelspec": {
   "display_name": "Python 3",
   "language": "python",
   "name": "python3"
  },
  "language_info": {
   "codemirror_mode": {
    "name": "ipython",
    "version": 3
   },
   "file_extension": ".py",
   "mimetype": "text/x-python",
   "name": "python",
   "nbconvert_exporter": "python",
   "pygments_lexer": "ipython3",
   "version": "3.7.4"
  }
 },
 "nbformat": 4,
 "nbformat_minor": 2
}
