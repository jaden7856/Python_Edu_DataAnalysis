{
 "cells": [
  {
   "cell_type": "code",
   "execution_count": 1,
   "metadata": {},
   "outputs": [],
   "source": [
    "import numpy as np"
   ]
  },
  {
   "cell_type": "code",
   "execution_count": 6,
   "metadata": {},
   "outputs": [
    {
     "name": "stdout",
     "output_type": "stream",
     "text": [
      "[16, 17, 18, 19, 20]\n"
     ]
    }
   ],
   "source": [
    "a = [1,2,3,4,5]\n",
    "b = []\n",
    "for i in range(0,len(a)):\n",
    "    b.append(a[i]+15)\n",
    "print(b)"
   ]
  },
  {
   "cell_type": "code",
   "execution_count": 9,
   "metadata": {},
   "outputs": [
    {
     "name": "stdout",
     "output_type": "stream",
     "text": [
      "[16, 17, 18, 19, 20]\n"
     ]
    }
   ],
   "source": [
    "a = [1,2,3,4,5]\n",
    "for i in range(0,len(a)):\n",
    "    a[i] = (a[i]+15)\n",
    "print(a)"
   ]
  },
  {
   "cell_type": "code",
   "execution_count": 10,
   "metadata": {},
   "outputs": [
    {
     "name": "stdout",
     "output_type": "stream",
     "text": [
      "[16 17 18 19 20]\n"
     ]
    }
   ],
   "source": [
    "a = np.array(a)\n",
    "print(a)"
   ]
  },
  {
   "cell_type": "code",
   "execution_count": 11,
   "metadata": {},
   "outputs": [
    {
     "data": {
      "text/plain": [
       "array([16, 17, 18, 19, 20])"
      ]
     },
     "execution_count": 11,
     "metadata": {},
     "output_type": "execute_result"
    }
   ],
   "source": [
    "a"
   ]
  },
  {
   "cell_type": "code",
   "execution_count": 12,
   "metadata": {},
   "outputs": [
    {
     "data": {
      "text/plain": [
       "array([21, 22, 23, 24, 25])"
      ]
     },
     "execution_count": 12,
     "metadata": {},
     "output_type": "execute_result"
    }
   ],
   "source": [
    "a+5"
   ]
  },
  {
   "cell_type": "code",
   "execution_count": 25,
   "metadata": {},
   "outputs": [],
   "source": [
    "a = [1,2,3,4,5,6,7,8,9,10]\n",
    "b = [11,12,13,14,15,16,17,18,19,20]\n",
    "c = []"
   ]
  },
  {
   "cell_type": "code",
   "execution_count": 26,
   "metadata": {},
   "outputs": [
    {
     "name": "stdout",
     "output_type": "stream",
     "text": [
      "[12, 14, 16, 18, 20, 22, 24, 26, 28, 30]\n"
     ]
    }
   ],
   "source": [
    "for i in a:\n",
    "    c.append(i+b[i-1])\n",
    "print(c)"
   ]
  },
  {
   "cell_type": "code",
   "execution_count": 27,
   "metadata": {},
   "outputs": [
    {
     "name": "stdout",
     "output_type": "stream",
     "text": [
      "[12 14 16 18 20 22 24 26 28 30]\n"
     ]
    }
   ],
   "source": [
    "arr_a = np.array(a)\n",
    "arr_b = np.array(b)\n",
    "\n",
    "c = arr_a + arr_b\n",
    "print(c)"
   ]
  },
  {
   "cell_type": "code",
   "execution_count": 33,
   "metadata": {},
   "outputs": [
    {
     "name": "stdout",
     "output_type": "stream",
     "text": [
      "python list Load Time : 0.0\n",
      "python list for loop : 0.04800271987915039\n",
      "python List Total : 0.04800271987915039\n",
      "numpy array1 Load Time : 0.0\n",
      "python list for loop : 0.0010001659393310547\n",
      "python List Total : 0.0010001659393310547\n",
      "numpy array2 Load Time : 0.0\n",
      "python list for loop : 0.039002180099487305\n",
      "python List Total : 0.039002180099487305\n"
     ]
    }
   ],
   "source": [
    "import time\n",
    "size_vector = 100000\n",
    "\n",
    "def pythonlist(size_vector):\n",
    "    t1 = time.time()\n",
    "    x = range(size_vector)\n",
    "    y = range(size_vector)\n",
    "    t2 = time.time()\n",
    "    print(\"python list Load Time : \"+ str(t2-t1))\n",
    "    z = []\n",
    "    \n",
    "    t3 = time.time()\n",
    "    for i in range(len(x)):\n",
    "        z.append(x[i] + y[i])\n",
    "    t4 = time.time()\n",
    "    print(\"python list for loop : \"+ str(t4-t3))\n",
    "    \n",
    "    print(\"python List Total : \"+ str(t4-t1))\n",
    "    \n",
    "def numpyarray1(size_vector):\n",
    "    t1 = time.time()\n",
    "    x = np.arange(size_vector)\n",
    "    y = np.arange(size_vector)\n",
    "    t2 = time.time()\n",
    "    print(\"numpy array1 Load Time : \"+ str(t2-t1))\n",
    "    \n",
    "    t3 = time.time()\n",
    "    z = x + y\n",
    "    t4 = time.time()\n",
    "    print(\"python list for loop : \"+ str(t4-t3))\n",
    "    \n",
    "    print(\"python List Total : \"+ str(t4-t1))\n",
    "    \n",
    "def numpyarray2(size_vector):\n",
    "    t1 = time.time()\n",
    "    x = np.arange(size_vector)\n",
    "    y = np.arange(size_vector)\n",
    "    t2 = time.time()\n",
    "    print(\"numpy array2 Load Time : \"+ str(t2-t1))\n",
    "    \n",
    "    t3 = time.time()\n",
    "    z = np.ndarray(size_vector)\n",
    "    for i in range(len(x)):\n",
    "        z[i] = x[i] + y[i]\n",
    "    t4 = time.time()\n",
    "    print(\"python list for loop : \"+ str(t4-t3))\n",
    "    \n",
    "    print(\"python List Total : \"+ str(t4-t1))\n",
    "    \n",
    "pythonlist(size_vector)\n",
    "numpyarray1(size_vector)\n",
    "numpyarray2(size_vector)"
   ]
  },
  {
   "cell_type": "code",
   "execution_count": 34,
   "metadata": {},
   "outputs": [],
   "source": [
    "def square_list0(N):\n",
    "    squares = []\n",
    "    for n in range(N):\n",
    "        squares = squares + [n**2]\n",
    "    return squares"
   ]
  },
  {
   "cell_type": "code",
   "execution_count": 35,
   "metadata": {},
   "outputs": [],
   "source": [
    "def square_list1(N):\n",
    "    squares = []\n",
    "    for n in range(N):\n",
    "        squares += [n**2]\n",
    "    return squares"
   ]
  },
  {
   "cell_type": "code",
   "execution_count": 36,
   "metadata": {},
   "outputs": [],
   "source": [
    "def square_list2(N):\n",
    "    squares = []\n",
    "    for n in range(N):\n",
    "        squares.append(n**2)\n",
    "    return squares"
   ]
  },
  {
   "cell_type": "code",
   "execution_count": 37,
   "metadata": {},
   "outputs": [],
   "source": [
    "def square_list3(N):\n",
    "    return [n**2 for n in range(N)]"
   ]
  },
  {
   "cell_type": "code",
   "execution_count": 38,
   "metadata": {},
   "outputs": [],
   "source": [
    "def square_array(N):\n",
    "    return np.arange(N)**2"
   ]
  },
  {
   "cell_type": "code",
   "execution_count": 39,
   "metadata": {},
   "outputs": [
    {
     "name": "stdout",
     "output_type": "stream",
     "text": [
      "Number :  100000\n",
      "List0_Try :  21.74224352836609\n",
      "List1_Try :  0.052002906799316406\n",
      "List2_Try :  0.049002885818481445\n",
      "List3_Try :  0.04600262641906738\n",
      "Array_Try :  0.0\n"
     ]
    }
   ],
   "source": [
    "n = 100000\n",
    "print(\"Number : \", n)\n",
    "t1 = time.time()\n",
    "square_list0(n)\n",
    "t2 = time.time()\n",
    "print(\"List0_Try : \", t2-t1)\n",
    "\n",
    "t1 = time.time()\n",
    "square_list1(n)\n",
    "t2 = time.time()\n",
    "print(\"List1_Try : \", t2-t1)\n",
    "\n",
    "t1 = time.time()\n",
    "square_list2(n)\n",
    "t2 = time.time()\n",
    "print(\"List2_Try : \", t2-t1)\n",
    "\n",
    "t1 = time.time()\n",
    "square_list3(n)\n",
    "t2 = time.time()\n",
    "print(\"List3_Try : \", t2-t1)\n",
    "\n",
    "t1 = time.time()\n",
    "square_array(n)\n",
    "t2 = time.time()\n",
    "print(\"Array_Try : \", t2-t1)"
   ]
  },
  {
   "cell_type": "code",
   "execution_count": 40,
   "metadata": {},
   "outputs": [
    {
     "name": "stdout",
     "output_type": "stream",
     "text": [
      "[1, 2, 3, 4, 5, 6]\n",
      "[1 2 3 4 5 6]\n"
     ]
    }
   ],
   "source": [
    "# 색인\n",
    "list1 = [1,2,3,4,5,6]\n",
    "arr1 = np.array(list1)\n",
    "\n",
    "print(list1)\n",
    "print(arr1)"
   ]
  },
  {
   "cell_type": "code",
   "execution_count": 41,
   "metadata": {},
   "outputs": [
    {
     "name": "stdout",
     "output_type": "stream",
     "text": [
      "1\n",
      "1\n",
      "\n",
      "\n",
      "[2, 3]\n",
      "[2 3]\n",
      "\n",
      "\n",
      "[4, 5, 6]\n",
      "[4 5 6]\n",
      "\n",
      "\n",
      "[1, 2, 3, 4, 5, 6]\n",
      "[1 2 3 4 5 6]\n"
     ]
    }
   ],
   "source": [
    "# 정수 인덱스로 리스트와 1차원 numpy 배열 접근 --> 참고)원본은 변경되지 않음!\n",
    "print(list1[0])\n",
    "print(arr1[0])\n",
    "print(\"\\n\")\n",
    "print(list1[1:3])\n",
    "print(arr1[1:3])\n",
    "print(\"\\n\")\n",
    "print(list1[3:])\n",
    "print(arr1[3:])\n",
    "print(\"\\n\")\n",
    "print(list1[:])\n",
    "print(arr1[:])"
   ]
  },
  {
   "cell_type": "code",
   "execution_count": 62,
   "metadata": {},
   "outputs": [
    {
     "name": "stdout",
     "output_type": "stream",
     "text": [
      "[0 1 2 3 4 5]\n",
      "[ 0 10 20 30 40 50]\n",
      "[[ 0]\n",
      " [10]\n",
      " [20]\n",
      " [30]\n",
      " [40]\n",
      " [50]]\n",
      "[[ 0  1  2  3  4  5]\n",
      " [10 11 12 13 14 15]\n",
      " [20 21 22 23 24 25]\n",
      " [30 31 32 33 34 35]\n",
      " [40 41 42 43 44 45]\n",
      " [50 51 52 53 54 55]]\n",
      "[[ 0  1  2  3  4  5]\n",
      " [10 11 12 13 14 15]\n",
      " [20 21 22 23 24 25]\n",
      " [30 31 32 33 34 35]\n",
      " [40 41 42 43 44 45]\n",
      " [50 51 52 53 54 55]]\n"
     ]
    }
   ],
   "source": [
    "# 행 , 열 리스트 생성\n",
    "h = np.arange(0,6,1)\n",
    "v = np.arange(0,51,10)\n",
    "\n",
    "print(h)\n",
    "print(v)\n",
    "\n",
    "# 열 수직배열로 변환\n",
    "v = np.arange(0,51,10)[:,np.newaxis]\n",
    "print(v)\n",
    "\n",
    "# 행열구조 생성\n",
    "a = np.arange(0,51,10)[:,np.newaxis] + np.arange(0,6,1)\n",
    "print(a)\n",
    "print(a[:])"
   ]
  },
  {
   "cell_type": "code",
   "execution_count": 64,
   "metadata": {},
   "outputs": [
    {
     "data": {
      "text/plain": [
       "1"
      ]
     },
     "execution_count": 64,
     "metadata": {},
     "output_type": "execute_result"
    }
   ],
   "source": [
    "a[0][1]"
   ]
  },
  {
   "cell_type": "code",
   "execution_count": 65,
   "metadata": {},
   "outputs": [
    {
     "data": {
      "text/plain": [
       "1"
      ]
     },
     "execution_count": 65,
     "metadata": {},
     "output_type": "execute_result"
    }
   ],
   "source": [
    "a[0,1]"
   ]
  },
  {
   "cell_type": "code",
   "execution_count": 66,
   "metadata": {},
   "outputs": [
    {
     "data": {
      "text/plain": [
       "array([ 1, 11])"
      ]
     },
     "execution_count": 66,
     "metadata": {},
     "output_type": "execute_result"
    }
   ],
   "source": [
    "a[0:2,1]"
   ]
  },
  {
   "cell_type": "code",
   "execution_count": 69,
   "metadata": {},
   "outputs": [
    {
     "data": {
      "text/plain": [
       "array([ 2, 12, 22, 32, 42, 52])"
      ]
     },
     "execution_count": 69,
     "metadata": {},
     "output_type": "execute_result"
    }
   ],
   "source": [
    "#pdf 참고하여 샘플 추출\n",
    "#빨간색\n",
    "a[0:len(a),2]"
   ]
  },
  {
   "cell_type": "code",
   "execution_count": 71,
   "metadata": {},
   "outputs": [
    {
     "data": {
      "text/plain": [
       "array([3, 4])"
      ]
     },
     "execution_count": 71,
     "metadata": {},
     "output_type": "execute_result"
    }
   ],
   "source": [
    "#주황색\n",
    "a[0,3:5]"
   ]
  },
  {
   "cell_type": "code",
   "execution_count": 91,
   "metadata": {},
   "outputs": [
    {
     "data": {
      "text/plain": [
       "array([[20, 22, 24],\n",
       "       [40, 42, 44]])"
      ]
     },
     "execution_count": 91,
     "metadata": {},
     "output_type": "execute_result"
    }
   ],
   "source": [
    "#초록색\n",
    "a[2::2,::2]"
   ]
  },
  {
   "cell_type": "code",
   "execution_count": 89,
   "metadata": {},
   "outputs": [
    {
     "data": {
      "text/plain": [
       "array([[44, 45],\n",
       "       [54, 55]])"
      ]
     },
     "execution_count": 89,
     "metadata": {},
     "output_type": "execute_result"
    }
   ],
   "source": [
    "#민트색\n",
    "a[4:,4:]"
   ]
  },
  {
   "cell_type": "code",
   "execution_count": 92,
   "metadata": {},
   "outputs": [
    {
     "name": "stdout",
     "output_type": "stream",
     "text": [
      "[0 1 2 3 4 5 6 7 8 9]\n",
      "[ True  True  True  True  True False False False False False]\n",
      "[0 1 2 3 4]\n"
     ]
    }
   ],
   "source": [
    "#Boolean indexing\n",
    "arr1 = np.arange(10)\n",
    "print(arr1)\n",
    "print(arr1<5)\n",
    "print(arr1[arr1<5])"
   ]
  },
  {
   "cell_type": "code",
   "execution_count": 94,
   "metadata": {},
   "outputs": [
    {
     "name": "stdout",
     "output_type": "stream",
     "text": [
      "['Bob' 'Joe' 'Will' 'Bob' 'Will' 'Joe' 'Joe']\n",
      "[[83 53 45 76]\n",
      " [74 96 41 92]\n",
      " [91 63 37 93]\n",
      " [92 74 94 83]\n",
      " [74 57 62 53]\n",
      " [41 50 56 42]\n",
      " [71 83 70 62]]\n"
     ]
    }
   ],
   "source": [
    "# names - 학생이름 / data - 국,영,수,과 순으로 성적부여\n",
    "names = np.array([\"Bob\",\"Joe\",\"Will\",\"Bob\",\"Will\",\"Joe\",\"Joe\"])\n",
    "# 참고) numpy.random.randint(low,high=None,size=None,dtype='l')\n",
    "data = np.random.randint(low=30,high=100,size=(7,4))\n",
    "print(names)\n",
    "print(data)"
   ]
  },
  {
   "cell_type": "code",
   "execution_count": 98,
   "metadata": {},
   "outputs": [
    {
     "name": "stdout",
     "output_type": "stream",
     "text": [
      "[ True False False  True False False False]\n",
      "['Bob' 'Bob']\n",
      "2\n"
     ]
    }
   ],
   "source": [
    "print(names == \"Bob\")\n",
    "print(names[names==\"Bob\"])\n",
    "print(len(names[names==\"Bob\"]))"
   ]
  },
  {
   "cell_type": "code",
   "execution_count": 103,
   "metadata": {},
   "outputs": [
    {
     "name": "stdout",
     "output_type": "stream",
     "text": [
      "[[83 53 45 76]\n",
      " [92 74 94 83]]\n"
     ]
    }
   ],
   "source": [
    "print(data[names==\"Bob\"])"
   ]
  },
  {
   "cell_type": "code",
   "execution_count": 106,
   "metadata": {},
   "outputs": [
    {
     "name": "stdout",
     "output_type": "stream",
     "text": [
      "[[45 76]\n",
      " [94 83]]\n"
     ]
    }
   ],
   "source": [
    "print(data[names==\"Bob\",2:])"
   ]
  },
  {
   "cell_type": "code",
   "execution_count": 109,
   "metadata": {},
   "outputs": [
    {
     "name": "stdout",
     "output_type": "stream",
     "text": [
      "[83 53 45 76]\n"
     ]
    }
   ],
   "source": [
    "print(data[names==\"Bob\"][0])"
   ]
  },
  {
   "cell_type": "code",
   "execution_count": 113,
   "metadata": {},
   "outputs": [
    {
     "name": "stdout",
     "output_type": "stream",
     "text": [
      "[[83 53 45 76]\n",
      " [91 63 37 93]\n",
      " [92 74 94 83]\n",
      " [74 57 62 53]]\n"
     ]
    }
   ],
   "source": [
    "print(data[(names==\"Bob\")|(names==\"Will\")])"
   ]
  },
  {
   "cell_type": "code",
   "execution_count": 114,
   "metadata": {},
   "outputs": [
    {
     "name": "stdout",
     "output_type": "stream",
     "text": [
      "[[53 76]\n",
      " [63 93]\n",
      " [74 83]\n",
      " [57 53]]\n"
     ]
    }
   ],
   "source": [
    "print(data[(names==\"Bob\")|(names==\"Will\"),1::2])"
   ]
  },
  {
   "cell_type": "code",
   "execution_count": 117,
   "metadata": {},
   "outputs": [
    {
     "name": "stdout",
     "output_type": "stream",
     "text": [
      "[[83 53 45 76]\n",
      " [74 96 41 92]\n",
      " [91 63 37 93]\n",
      " [92 74 94 83]\n",
      " [74 57 62 53]\n",
      " [41 50 56 42]\n",
      " [71 83 70 62]]\n",
      "[[1 0 0 1]\n",
      " [1 1 0 1]\n",
      " [1 0 0 1]\n",
      " [1 1 1 1]\n",
      " [1 0 0 0]\n",
      " [0 0 0 0]\n",
      " [1 1 0 0]]\n"
     ]
    }
   ],
   "source": [
    "# step1)\n",
    "print(data)\n",
    "data[data<=70] = 0\n",
    "data[data>70] = 1\n",
    "print(data)"
   ]
  },
  {
   "cell_type": "code",
   "execution_count": 118,
   "metadata": {},
   "outputs": [
    {
     "data": {
      "text/plain": [
       "(array([0, 0, 1, 1, 1, 2, 2, 3, 3, 3, 3, 4, 6, 6], dtype=int64),\n",
       " array([0, 3, 0, 1, 3, 0, 3, 0, 1, 2, 3, 0, 0, 1], dtype=int64))"
      ]
     },
     "execution_count": 118,
     "metadata": {},
     "output_type": "execute_result"
    }
   ],
   "source": [
    "# step2)\n",
    "# 참고) 원하는 값을 찾을 때는 np.where을 사용\n",
    "# 1로 패스한 사람들의 데이터만 찾음 --> 결과가 어떠한 것을 의미하는지 잘 확인할 것!!!\n",
    "np.where(data>0)"
   ]
  },
  {
   "cell_type": "code",
   "execution_count": 119,
   "metadata": {},
   "outputs": [
    {
     "name": "stdout",
     "output_type": "stream",
     "text": [
      "[0 1 2 3 4 6]\n",
      "['Bob' 'Joe' 'Will' 'Bob' 'Will' 'Joe']\n"
     ]
    }
   ],
   "source": [
    "# step3 , 4)\n",
    "# 이를 바탕으로 이름에 대한 유니크한 index를 찾아서 누가 패스했는지 찾아보자\n",
    "print(np.unique(np.where(data>0)[0]))\n",
    "print(names[np.unique(np.where(data>0)[0])])"
   ]
  },
  {
   "cell_type": "code",
   "execution_count": null,
   "metadata": {},
   "outputs": [],
   "source": []
  },
  {
   "cell_type": "code",
   "execution_count": null,
   "metadata": {},
   "outputs": [],
   "source": []
  },
  {
   "cell_type": "code",
   "execution_count": null,
   "metadata": {},
   "outputs": [],
   "source": []
  },
  {
   "cell_type": "code",
   "execution_count": null,
   "metadata": {},
   "outputs": [],
   "source": []
  },
  {
   "cell_type": "code",
   "execution_count": null,
   "metadata": {},
   "outputs": [],
   "source": []
  },
  {
   "cell_type": "code",
   "execution_count": null,
   "metadata": {},
   "outputs": [],
   "source": []
  },
  {
   "cell_type": "code",
   "execution_count": null,
   "metadata": {},
   "outputs": [],
   "source": []
  }
 ],
 "metadata": {
  "kernelspec": {
   "display_name": "Python 3",
   "language": "python",
   "name": "python3"
  },
  "language_info": {
   "codemirror_mode": {
    "name": "ipython",
    "version": 3
   },
   "file_extension": ".py",
   "mimetype": "text/x-python",
   "name": "python",
   "nbconvert_exporter": "python",
   "pygments_lexer": "ipython3",
   "version": "3.7.4"
  }
 },
 "nbformat": 4,
 "nbformat_minor": 2
}
